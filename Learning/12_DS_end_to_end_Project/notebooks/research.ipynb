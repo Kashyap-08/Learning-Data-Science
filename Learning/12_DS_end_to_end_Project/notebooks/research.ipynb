{
 "cells": [
  {
   "cell_type": "code",
   "execution_count": 8,
   "metadata": {},
   "outputs": [],
   "source": [
    "import logging\n",
    "import os\n",
    "from datetime import datetime\n",
    "import pandas as pd"
   ]
  },
  {
   "cell_type": "code",
   "execution_count": 2,
   "metadata": {},
   "outputs": [
    {
     "data": {
      "text/plain": [
       "'2023_10_30_19_02_03.log'"
      ]
     },
     "execution_count": 2,
     "metadata": {},
     "output_type": "execute_result"
    }
   ],
   "source": [
    "LOG_FILE= f\"{datetime.now().strftime('%Y_%m_%d_%H_%M_%S')}.log\"\n",
    "\n",
    "LOG_FILE"
   ]
  },
  {
   "cell_type": "code",
   "execution_count": 4,
   "metadata": {},
   "outputs": [
    {
     "data": {
      "text/plain": [
       "'d:\\\\Learning\\\\INeuron\\\\Live\\\\12_2_DS_end_to_end_git_proj\\\\notebooks'"
      ]
     },
     "execution_count": 4,
     "metadata": {},
     "output_type": "execute_result"
    }
   ],
   "source": [
    "os.getcwd()"
   ]
  },
  {
   "cell_type": "code",
   "execution_count": 3,
   "metadata": {},
   "outputs": [
    {
     "data": {
      "text/plain": [
       "'d:\\\\Learning\\\\INeuron\\\\Live\\\\12_2_DS_end_to_end_git_proj\\\\notebooks\\\\logs'"
      ]
     },
     "execution_count": 3,
     "metadata": {},
     "output_type": "execute_result"
    }
   ],
   "source": [
    "log_path = os.path.join(os.getcwd(), \"logs\")\n",
    "log_path"
   ]
  },
  {
   "cell_type": "code",
   "execution_count": 6,
   "metadata": {},
   "outputs": [],
   "source": [
    "from src.DimondPricePrediction.logger import logging\n",
    "\n",
    "# logg some info\n",
    "logging.info(\"Testing out my new logging code\")"
   ]
  },
  {
   "cell_type": "code",
   "execution_count": 15,
   "metadata": {},
   "outputs": [],
   "source": [
    "# train_df = pd.read_csv(\"artifact/train.csv\")\n",
    "path = \"D:/Learning/INeuron/Live/12_2_DS_end_to_end_git_proj/artifact/train.csv\"\n",
    "train_df = pd.read_csv(path)\n",
    "# , test_path: artifact\\test.csv"
   ]
  },
  {
   "cell_type": "code",
   "execution_count": 17,
   "metadata": {},
   "outputs": [
    {
     "data": {
      "text/plain": [
       "'       id  carat      cut color clarity  depth  table     x     y     z  price\\n0   31904   0.33    Ideal     H     SI1   62.0   55.0  4.42  4.44  2.75    475\\n1  179886   1.53    Ideal     G    VVS2   62.6   56.0  7.34  7.31  4.58  17347\\n2  189663   0.32    Ideal     H      IF   62.5   54.0  4.39  4.41  2.75    815\\n3  155165   1.22  Premium     G     VS1   61.3   58.0  6.88  6.84  4.21   8924\\n4   32858   0.30    Ideal     G    VVS1   62.1   57.0  4.25  4.27  2.64    789'"
      ]
     },
     "execution_count": 17,
     "metadata": {},
     "output_type": "execute_result"
    }
   ],
   "source": [
    "train_df.head().to_string()"
   ]
  },
  {
   "cell_type": "code",
   "execution_count": 18,
   "metadata": {},
   "outputs": [],
   "source": [
    "logging.info(f\"Train DatFrame head :\\n{train_df.head().to_string()}\")"
   ]
  },
  {
   "cell_type": "code",
   "execution_count": 24,
   "metadata": {},
   "outputs": [],
   "source": [
    "# train_df = pd.read_csv(\"artifact/train.csv\")\n",
    "path = \"D:/Learning/INeuron/Live/12_2_DS_end_to_end_git_proj/artifact/test.csv\"\n",
    "test_df = pd.read_csv(path)\n",
    "# , test_path: artifact\\test.csv"
   ]
  },
  {
   "cell_type": "code",
   "execution_count": 20,
   "metadata": {},
   "outputs": [],
   "source": [
    "logging.info(f\"Test DataFrame head :\\n{test_df.head().to_string()}\")"
   ]
  },
  {
   "cell_type": "code",
   "execution_count": null,
   "metadata": {},
   "outputs": [],
   "source": []
  }
 ],
 "metadata": {
  "kernelspec": {
   "display_name": "Python 3",
   "language": "python",
   "name": "python3"
  },
  "language_info": {
   "codemirror_mode": {
    "name": "ipython",
    "version": 3
   },
   "file_extension": ".py",
   "mimetype": "text/x-python",
   "name": "python",
   "nbconvert_exporter": "python",
   "pygments_lexer": "ipython3",
   "version": "3.9.0"
  }
 },
 "nbformat": 4,
 "nbformat_minor": 2
}
