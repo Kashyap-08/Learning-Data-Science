{
 "cells": [
  {
   "cell_type": "code",
   "execution_count": 1,
   "metadata": {},
   "outputs": [],
   "source": [
    "import numpy as np\n",
    "import pandas as pd"
   ]
  },
  {
   "cell_type": "code",
   "execution_count": 2,
   "metadata": {},
   "outputs": [],
   "source": [
    "# Read data\n",
    "df = pd.read_csv(\"data/gemstone.csv\")"
   ]
  },
  {
   "cell_type": "code",
   "execution_count": 3,
   "metadata": {},
   "outputs": [
    {
     "data": {
      "text/plain": [
       "Index(['carat', 'cut', 'color', 'clarity', 'depth', 'table', 'x', 'y', 'z',\n",
       "       'price'],\n",
       "      dtype='object')"
      ]
     },
     "execution_count": 3,
     "metadata": {},
     "output_type": "execute_result"
    }
   ],
   "source": [
    "# drop id from dataframe\n",
    "df.drop('id', axis = 1, inplace=True)\n",
    "df.columns"
   ]
  },
  {
   "cell_type": "code",
   "execution_count": 4,
   "metadata": {},
   "outputs": [
    {
     "data": {
      "text/plain": [
       "array(['F', 'J', 'G', 'E', 'D', 'H', 'I'], dtype=object)"
      ]
     },
     "execution_count": 4,
     "metadata": {},
     "output_type": "execute_result"
    }
   ],
   "source": [
    "# Get unique data\n",
    "df['color'].unique()"
   ]
  },
  {
   "cell_type": "code",
   "execution_count": null,
   "metadata": {},
   "outputs": [],
   "source": [
    "# Seprate data into X and Y\n",
    "X = df.drop(\"price\", axis=1)\n",
    "y = df[['price']]"
   ]
  },
  {
   "cell_type": "code",
   "execution_count": null,
   "metadata": {},
   "outputs": [],
   "source": [
    "# Get Categorical and numerical data\n",
    "categorical_col = X.select_dtypes(include='object').columns\n",
    "numerical_col = X.select_dtypes(exclude='object').columns"
   ]
  },
  {
   "cell_type": "code",
   "execution_count": null,
   "metadata": {},
   "outputs": [],
   "source": [
    "# Define custom rank for each categorical data\n",
    "cut = ['Fair','Good','Very Good','Premium','Ideal']\n",
    "clarity = ['I1','SI2','SI1','VS2','VS1','VVS2','VVS1','IF']\n",
    "color = ['D','E','F','G','H','I','J']"
   ]
  },
  {
   "cell_type": "code",
   "execution_count": null,
   "metadata": {},
   "outputs": [],
   "source": [
    "from sklearn.impute import SimpleImputer ## Handling Missing Values\n",
    "from sklearn.preprocessing import StandardScaler ## Handling Feature Scaling\n",
    "from sklearn.preprocessing import OrdinalEncoder ## Ordinal Encoding\n",
    "## pipeline\n",
    "from sklearn.pipeline import Pipeline\n",
    "from sklearn.compose import ColumnTransformer"
   ]
  },
  {
   "cell_type": "code",
   "execution_count": 32,
   "metadata": {},
   "outputs": [],
   "source": [
    "# Create pipelines \n",
    "\n",
    "num_pipeline = Pipeline(\n",
    "    steps = [\n",
    "        ('imputer',SimpleImputer()),\n",
    "        ('scaler',StandardScaler())\n",
    "    ]\n",
    ")\n",
    "\n",
    "cat_pipeline = Pipeline(\n",
    "    steps = [\n",
    "        ('imputer',SimpleImputer(strategy='most_frequent')),\n",
    "        ('ordinalencoder',OrdinalEncoder(categories=[cut,color, clarity]))\n",
    "    ]\n",
    ")"
   ]
  },
  {
   "cell_type": "code",
   "execution_count": 33,
   "metadata": {},
   "outputs": [],
   "source": [
    "preprocess = ColumnTransformer(\n",
    "    [\n",
    "        ('numerical_pipelines',num_pipeline,numerical_col),\n",
    "        ('categorical_pipeline',cat_pipeline,categorical_col)\n",
    "    ]\n",
    ")"
   ]
  },
  {
   "cell_type": "code",
   "execution_count": 34,
   "metadata": {},
   "outputs": [],
   "source": [
    "# Split Data into Train and Test\n",
    "from sklearn.model_selection import train_test_split\n",
    "\n",
    "X_train, X_test, y_train, y_test = train_test_split(X, y, test_size=0.25, random_state=30)"
   ]
  },
  {
   "cell_type": "code",
   "execution_count": 35,
   "metadata": {},
   "outputs": [
    {
     "data": {
      "text/plain": [
       "array([[ 0.4737665 ,  3.22017586, -0.64163706, ...,  0.        ,\n",
       "         2.        ,  3.        ],\n",
       "       [-0.84569736,  0.07580627, -0.12039054, ...,  4.        ,\n",
       "         3.        ,  2.        ],\n",
       "       [ 0.73333317, -0.20163811,  0.92210251, ...,  2.        ,\n",
       "         4.        ,  2.        ],\n",
       "       ...,\n",
       "       [ 0.45213595,  1.55550961, -0.64163706, ...,  1.        ,\n",
       "         3.        ,  2.        ],\n",
       "       [ 0.6684415 , -1.7738229 ,  1.44334904, ...,  4.        ,\n",
       "         3.        ,  4.        ],\n",
       "       [ 0.25746095,  0.81565794, -0.12039054, ...,  4.        ,\n",
       "         3.        ,  2.        ]])"
      ]
     },
     "execution_count": 35,
     "metadata": {},
     "output_type": "execute_result"
    }
   ],
   "source": [
    "# Transform data in one shot\n",
    "preprocess.fit_transform(X_train)"
   ]
  },
  {
   "cell_type": "code",
   "execution_count": 38,
   "metadata": {},
   "outputs": [
    {
     "data": {
      "text/plain": [
       "array([[-0.56450014, -0.94148977, -0.64163706, ...,  3.        ,\n",
       "         1.        ,  3.        ],\n",
       "       [-0.17515015,  1.00062086, -0.12039054, ...,  2.        ,\n",
       "         4.        ,  2.        ],\n",
       "       [-1.06200291,  0.26076919, -0.12039054, ...,  4.        ,\n",
       "         4.        ,  7.        ],\n",
       "       ...,\n",
       "       [ 1.53366371,  0.35325065,  0.40085599, ...,  2.        ,\n",
       "         3.        ,  4.        ],\n",
       "       [ 1.62018593,  0.07580627,  0.92210251, ...,  3.        ,\n",
       "         1.        ,  3.        ],\n",
       "       [-0.97548069,  0.16828773,  1.44334904, ...,  2.        ,\n",
       "         5.        ,  4.        ]])"
      ]
     },
     "execution_count": 38,
     "metadata": {},
     "output_type": "execute_result"
    }
   ],
   "source": [
    "preprocess.transform(X_test)"
   ]
  },
  {
   "cell_type": "code",
   "execution_count": 41,
   "metadata": {},
   "outputs": [
    {
     "data": {
      "text/plain": [
       "array(['numerical_pipelines__carat', 'numerical_pipelines__depth',\n",
       "       'numerical_pipelines__table', 'numerical_pipelines__x',\n",
       "       'numerical_pipelines__y', 'numerical_pipelines__z',\n",
       "       'categorical_pipeline__cut', 'categorical_pipeline__color',\n",
       "       'categorical_pipeline__clarity'], dtype=object)"
      ]
     },
     "execution_count": 41,
     "metadata": {},
     "output_type": "execute_result"
    }
   ],
   "source": [
    "preprocess.get_feature_names_out()"
   ]
  },
  {
   "cell_type": "code",
   "execution_count": 43,
   "metadata": {},
   "outputs": [],
   "source": [
    "# Store transformed data into new datasets\n",
    "X_train = pd.DataFrame(preprocess.fit_transform(X_train), columns = preprocess.get_feature_names_out())\n",
    "X_test = pd.DataFrame(preprocess.transform(X_test), columns = preprocess.get_feature_names_out())"
   ]
  },
  {
   "cell_type": "code",
   "execution_count": 45,
   "metadata": {},
   "outputs": [],
   "source": [
    "# Model Training\n",
    "from sklearn.linear_model import LinearRegression, Lasso, Ridge, ElasticNet\n",
    "from sklearn.metrics import r2_score, mean_absolute_error, mean_squared_error"
   ]
  },
  {
   "cell_type": "code",
   "execution_count": 47,
   "metadata": {},
   "outputs": [],
   "source": [
    "# Evalueate the model\n",
    "def evaluate_model(true, predicted):\n",
    "    mae = mean_absolute_error(true, predicted)\n",
    "    mse = mean_squared_error(true, predicted)\n",
    "    rmse = np.sqrt(mean_squared_error(true, predicted))\n",
    "    r2_square = r2_score(true, predicted)\n",
    "    return mae, rmse, r2_square"
   ]
  },
  {
   "cell_type": "code",
   "execution_count": 48,
   "metadata": {},
   "outputs": [],
   "source": [
    "## Train multiple models\n",
    "\n",
    "models={\n",
    "    'LinearRegression':LinearRegression(),\n",
    "    'Lasso':Lasso(),\n",
    "    'Ridge':Ridge(),\n",
    "    'Elasticnet':ElasticNet()\n",
    "}"
   ]
  },
  {
   "cell_type": "code",
   "execution_count": 49,
   "metadata": {},
   "outputs": [],
   "source": [
    "trained_model_list = []\n",
    "model_list = []\n",
    "r2_list = []"
   ]
  },
  {
   "cell_type": "code",
   "execution_count": 54,
   "metadata": {},
   "outputs": [
    {
     "name": "stdout",
     "output_type": "stream",
     "text": [
      "['LinearRegression', 'Lasso', 'Ridge', 'Elasticnet']\n",
      "[LinearRegression(), Lasso(), Ridge(), ElasticNet()]\n"
     ]
    }
   ],
   "source": [
    "# GEt the models dictionary values into list\n",
    "\n",
    "print(list(models))\n",
    "print(list(models.values()))"
   ]
  },
  {
   "cell_type": "code",
   "execution_count": 55,
   "metadata": {},
   "outputs": [
    {
     "name": "stdout",
     "output_type": "stream",
     "text": [
      "LinearRegression\n",
      "Model Training Performance\n",
      "RMSE: 1020.9106955021983\n",
      "MAE: 677.5652190317564\n",
      "R2 score 93.63482324438802\n",
      "===================================\n",
      "\n",
      "\n",
      "Lasso\n",
      "Model Training Performance\n",
      "RMSE: 1020.8737429995507\n",
      "MAE: 678.7748073387654\n",
      "R2 score 93.63528401917503\n",
      "===================================\n",
      "\n",
      "\n",
      "Ridge\n",
      "Model Training Performance\n",
      "RMSE: 1020.910445208282\n",
      "MAE: 677.5931366728804\n",
      "R2 score 93.63482636545399\n",
      "===================================\n",
      "\n",
      "\n",
      "Elasticnet\n",
      "Model Training Performance\n",
      "RMSE: 1520.4410413453177\n",
      "MAE: 1052.7631285487387\n",
      "R2 score 85.88196907701382\n",
      "===================================\n",
      "\n",
      "\n"
     ]
    }
   ],
   "source": [
    "for i in range(len(list(models))):\n",
    "    model=list(models.values())[i]\n",
    "    model.fit(X_train,y_train)\n",
    "\n",
    "    #Make Predictions\n",
    "    y_pred=model.predict(X_test)\n",
    "\n",
    "    #this is a validation(test) score\n",
    "    mae, rmse, r2_square=evaluate_model(y_test,y_pred)\n",
    "\n",
    "    \n",
    "    print(list(models.keys())[i])\n",
    "    model_list.append(list(models.keys())[i])\n",
    "\n",
    "    print('Model Training Performance')\n",
    "    print(\"RMSE:\",rmse)\n",
    "    print(\"MAE:\",mae)\n",
    "    print(\"R2 score\",r2_square*100)\n",
    "\n",
    "    r2_list.append(r2_square)\n",
    "    \n",
    "    print('='*35)\n",
    "    print('\\n')"
   ]
  },
  {
   "cell_type": "code",
   "execution_count": null,
   "metadata": {},
   "outputs": [],
   "source": []
  }
 ],
 "metadata": {
  "kernelspec": {
   "display_name": "Python 3",
   "language": "python",
   "name": "python3"
  },
  "language_info": {
   "codemirror_mode": {
    "name": "ipython",
    "version": 3
   },
   "file_extension": ".py",
   "mimetype": "text/x-python",
   "name": "python",
   "nbconvert_exporter": "python",
   "pygments_lexer": "ipython3",
   "version": "3.9.0"
  }
 },
 "nbformat": 4,
 "nbformat_minor": 2
}
