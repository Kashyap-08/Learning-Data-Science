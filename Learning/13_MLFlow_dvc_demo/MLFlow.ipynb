{
 "cells": [
  {
   "cell_type": "markdown",
   "metadata": {},
   "source": [
    "# Parameters that are frequently used while creating End to End Application \n",
    "1. Data Versioning(Data Version Control-DVC, MlFlow, Delta Lake, Git Large File Storage):\n",
    "2. Source code Management(Git, bitbucket, Subversion, AWS Code Commit)\n",
    "3. Experiment Tracking(MLFlow, TensorBoard)\n",
    "4. Feature Store (Feature Tools, Aws Sagemaker Feature Store): A feature store is a centralized repository for storing, managing, and serving machine learning (ML) features.\n",
    "5. Model Serving (Tensor Flow Serving, MLFlow Model Serving, Azure ML Model Serving): Model serving refers to the process of deploying machine learning models into production environments where they can be used to make predictions on new, unseen data.\n",
    "6. Model Monitoring (Prometheus, DataDog, TensorBoard): Once the model in production, the model needs to be constantly monitored to check it's performance.\n",
    "7. Model Registory(MLFlow, DVC, AWS SageMaker model registory): Save your trained model.\n",
    "8. Workflow Scheduling (Airflow, Luigi)\n",
    "9. Containerization (Docker, Kubernetes, Podman)\n",
    "10. Manage Containerization (Docket, Kubernetes, Docker Compose)\n",
    "11. Configuration Management (Teraform, puppet, chef)"
   ]
  },
  {
   "cell_type": "code",
   "execution_count": null,
   "metadata": {},
   "outputs": [],
   "source": []
  }
 ],
 "metadata": {
  "language_info": {
   "name": "python"
  }
 },
 "nbformat": 4,
 "nbformat_minor": 2
}
