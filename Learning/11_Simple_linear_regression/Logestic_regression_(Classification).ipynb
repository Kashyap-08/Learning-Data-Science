{
 "cells": [
  {
   "cell_type": "markdown",
   "metadata": {},
   "source": [
    "# Logestic Regression (Binary Classification)"
   ]
  },
  {
   "cell_type": "markdown",
   "metadata": {},
   "source": [
    "Consider example:  \n",
    "\n",
    "|number of students| Pass/Fail|\n",
    "|---|---|\n",
    "|1|0|\n",
    "|2|0|\n",
    "|3|0|\n",
    "|4|0|\n",
    "|5|0|\n",
    "|6|1|\n",
    "|7|1|\n",
    "|8|1|\n",
    "|9|1|  \n",
    "\n",
    "#### Can we solve this problem using Regression?\n",
    "\n",
    "![Alt text](images/image17.png)\n",
    "\n",
    "* In the above graph, we are trying to plot the best fit line, befor and after outliers.\n",
    "* We can see that, the best fit line changes after the outliers are introduced., causes the prediction to get wrong.\n",
    "* Outcome comes >1 and <0 [Real output should be in between 0 and 1]\n",
    "* To solve this problem, We use logestic Regression.\n"
   ]
  },
  {
   "cell_type": "markdown",
   "metadata": {},
   "source": [
    "## Introduction to Logestic Regression\n",
    "\n",
    "* Logestic Regression is the statistical measure used for modeling the relationship between a binary dependent variable and one or more independent variable.\n",
    "* It is primarly used for classification task in which the outcome or response variables is categorical and has only possible outcomes (1 or 0).\n",
    "* it uses the sqashing Technique to solve the outliers problem\n",
    "* Formula : 1/ 1+ e^-z\n",
    "* hθ(x) = 1/ 1+ e^-(θ+θ1x1)\n",
    "\n",
    "* Cost Function: 1/n(∑(i=0)(n) Yi - ho(X))^2"
   ]
  },
  {
   "cell_type": "markdown",
   "metadata": {},
   "source": [
    "#### Problem with Logesti Regression Cost Function\n",
    "* The Main problem with the above cost function. It does not create convex function, \n",
    "* we get multiple local minimas as shown is the diagram to the right. \n",
    "\n",
    "![alt text](images/image18.png)\n",
    "\n",
    "* Left hand side shows the cost function for linear regression and right diagram shows cost function for logestic regression\n",
    "* TO solve this problem we have a differet cost function named **Log Loss cost function**\n",
    "\n",
    "##### Cost function: J(θo, θ1) = -y log(hθ(x)) - (1-y) log(1 - log(hθ(x)))\n",
    "With the help of above foruma, it creats a convex function\n",
    "\n",
    "* Final Goal: minimize the cost function, that can be done using below diagram\n",
    "\n",
    "![Alt text](images/image19.png)"
   ]
  },
  {
   "cell_type": "markdown",
   "metadata": {},
   "source": [
    "#### If we add the Regularization\n",
    "\n",
    "![Alt text](images/image20.png)"
   ]
  },
  {
   "cell_type": "markdown",
   "metadata": {},
   "source": []
  }
 ],
 "metadata": {
  "language_info": {
   "name": "python"
  }
 },
 "nbformat": 4,
 "nbformat_minor": 2
}
