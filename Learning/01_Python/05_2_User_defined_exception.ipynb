{
  "cells": [
    {
      "cell_type": "markdown",
      "metadata": {
        "id": "OFOzAXgSTWNa"
      },
      "source": [
        "# User-defined Exceptions\n",
        "\n",
        "<p><strong>By deriving a new class</strong> from the default Exception class in Python, we can define our own exception types.</p>"
      ]
    },
    {
      "cell_type": "code",
      "execution_count": null,
      "metadata": {
        "id": "ZCWXKf38TWNd"
      },
      "outputs": [],
      "source": [
        "class MyCustomError(Exception):\n",
        "    pass"
      ]
    },
    {
      "cell_type": "markdown",
      "metadata": {
        "id": "yJ_A70N5TWNe"
      },
      "source": [
        "<p>In the above code, <code>MyCustomError</code> is derived from the built-in <code>Exception</code> class. You can use this in your code by using the <code>raise</code> statement.</p>"
      ]
    },
    {
      "cell_type": "code",
      "execution_count": null,
      "metadata": {
        "id": "IY5k2zGzTWNe"
      },
      "outputs": [],
      "source": [
        "raise MyCustomError(\"This is a custom error\")"
      ]
    },
    {
      "cell_type": "code",
      "execution_count": null,
      "metadata": {
        "id": "Q7qUfyhmTWNf"
      },
      "outputs": [],
      "source": []
    },
    {
      "cell_type": "code",
      "execution_count": null,
      "metadata": {
        "id": "1F2fgvsATWNf"
      },
      "outputs": [],
      "source": [
        "# define user-defined exceptions\n",
        "class WrongAge(Exception):\n",
        "    \"Raised when the input value is less than 100\"\n",
        "    pass"
      ]
    },
    {
      "cell_type": "code",
      "execution_count": null,
      "metadata": {
        "id": "SSjm8qtXTWNf",
        "outputId": "6e1a01a3-2fcf-458d-df54-b356afa66653"
      },
      "outputs": [
        {
          "name": "stdout",
          "output_type": "stream",
          "text": [
            "Enter a age: 11\n",
            "Invalid Age: You are not allowed to work\n"
          ]
        }
      ],
      "source": [
        "# you need to guess this number\n",
        "n = 18\n",
        "\n",
        "try:\n",
        "    input_num = int(input(\"Enter a age: \"))\n",
        "    if input_num < n:\n",
        "        raise WrongAge # calling your custom exception\n",
        "    else:\n",
        "        print(\"You can work\")\n",
        "except WrongAge:\n",
        "    print(\"Invalid Age: You are not allowed to work\")"
      ]
    },
    {
      "cell_type": "markdown",
      "metadata": {
        "id": "KIJPnP9qTWNg"
      },
      "source": [
        "# Logging\n",
        "\n",
        "<ul>\n",
        "<li><strong>Logging</strong> is a technique for monitoring events that take place when some software is in use.</li>\n",
        "<li>For the creation, operation, and debugging of software, logging is crucial.</li>\n",
        "<li>There are very little odds that you would find the source of the issue if your programme fails and you don't have any logging records.</li>\n",
        "<li>Additionally, it will take a lot of time to identify the cause.&nbsp;</li>\n",
        "</ul>"
      ]
    },
    {
      "cell_type": "code",
      "execution_count": null,
      "metadata": {
        "id": "zpKI-kEtTWNg",
        "outputId": "2e2caa07-191b-494d-c685-54331d53fbb7"
      },
      "outputs": [
        {
          "name": "stderr",
          "output_type": "stream",
          "text": [
            "DEBUG:root:This is a debug message\n",
            "INFO:root:This is an info message\n",
            "WARNING:root:This is a warning message\n",
            "ERROR:root:This is an error message\n",
            "CRITICAL:root:This is a critical message\n"
          ]
        }
      ],
      "source": [
        "# first import the logging library\n",
        "import logging\n",
        "\n",
        "\"\"\" In the code above, we first import the logging module, then we call the\n",
        "    basicConfig method to configure the logging.\n",
        "\n",
        "    We set the level to DEBUG, which means that all logs of level\n",
        "    DEBUG and above will be tracked.\"\"\"\n",
        "\n",
        "logging.basicConfig(level=logging.DEBUG)\n",
        "\n",
        "# Logging Level: severity of the event being logged\n",
        "# Least severe to most severe\n",
        "logging.debug('This is a debug message')\n",
        "logging.info('This is an info message')\n",
        "logging.warning('This is a warning message')\n",
        "logging.error('This is an error message')\n",
        "logging.critical('This is a critical message')\n"
      ]
    },
    {
      "cell_type": "markdown",
      "metadata": {
        "id": "4oIvDzmETWNh"
      },
      "source": [
        "<ul>\n",
        "<li>Some programmers utilise the idea of&nbsp;<strong>\"Printing\"</strong> the statements to check whether they were correctly performed or if an error had occurred.</li>\n",
        "<li>However, printing is not a smart move. For basic scripts, it might be the answer to your problems, however the printing solution will fall short for complex programmes.</li>\n",
        "<li>A built-in Python package called logging enables publishing status messages to files or other output streams. The file may provide details about which portion of the code is run and any issues that have come up. </li>\n",
        "</ul>"
      ]
    },
    {
      "cell_type": "markdown",
      "metadata": {
        "id": "U9MrcSCrTWNh"
      },
      "source": [
        "<ul>\n",
        "<li>\n",
        "<p>Here are the different log levels in increasing order of severity:</p>\n",
        "<ul>\n",
        "<li>DEBUG: Detailed information, typically of interest only when diagnosing problems.</li>\n",
        "<li>INFO: Confirmation that things are working as expected.</li>\n",
        "<li>WARNING: An indication that something unexpected happened, or may happen in the future (e.g. &lsquo;disk space low&rsquo;). The software is still working as expected.</li>\n",
        "<li>ERROR: More serious problem that prevented the software from performing a function.</li>\n",
        "<li>CRITICAL: A very serious error, indicating that the program itself may be unable to continue running.</li>\n",
        "</ul>\n",
        "</li>\n",
        "</ul>"
      ]
    },
    {
      "cell_type": "markdown",
      "metadata": {
        "id": "MU-W62I5TWNi"
      },
      "source": [
        "# Debug"
      ]
    },
    {
      "cell_type": "code",
      "execution_count": null,
      "metadata": {
        "id": "H_FAYknSTWNi",
        "outputId": "c4f4f059-e9a5-4da3-f62b-4beea3b16f2f"
      },
      "outputs": [
        {
          "name": "stderr",
          "output_type": "stream",
          "text": [
            "DEBUG:root:Variables are 1 and 2\n"
          ]
        },
        {
          "data": {
            "text/plain": [
              "3"
            ]
          },
          "execution_count": 9,
          "metadata": {},
          "output_type": "execute_result"
        }
      ],
      "source": [
        "import logging\n",
        "\n",
        "logging.basicConfig(level=logging.DEBUG)\n",
        "\n",
        "def add(x, y):\n",
        "    logging.debug('Variables are %s and %s', x, y)\n",
        "    return x + y\n",
        "\n",
        "add(1, 2)\n"
      ]
    },
    {
      "cell_type": "markdown",
      "metadata": {
        "id": "RyYBjJyATWNi"
      },
      "source": [
        "# Info"
      ]
    },
    {
      "cell_type": "code",
      "execution_count": null,
      "metadata": {
        "id": "7mQEkBTKTWNi",
        "outputId": "8a36418d-ee52-4d82-f885-199112dd0f16"
      },
      "outputs": [
        {
          "name": "stderr",
          "output_type": "stream",
          "text": [
            "INFO:root:User Admin User logged in\n"
          ]
        }
      ],
      "source": [
        "import logging\n",
        "\n",
        "logging.basicConfig(level=logging.INFO)\n",
        "\n",
        "def login(user):\n",
        "    logging.info('User %s logged in', user)\n",
        "\n",
        "login('Admin User')\n"
      ]
    },
    {
      "cell_type": "markdown",
      "metadata": {
        "id": "ylCBtp76TWNi"
      },
      "source": [
        "# Warning"
      ]
    },
    {
      "cell_type": "code",
      "execution_count": null,
      "metadata": {
        "id": "q18LI71-TWNi",
        "outputId": "c508523c-7f2b-4024-ade6-f168e8b9387a"
      },
      "outputs": [
        {
          "name": "stderr",
          "output_type": "stream",
          "text": [
            "WARNING:root:Sorry you have Low balance: 10000\n"
          ]
        }
      ],
      "source": [
        "import logging\n",
        "\n",
        "logging.basicConfig(level=logging.WARNING)\n",
        "\n",
        "def MyBalance(amount):\n",
        "    if amount < 40000:\n",
        "        logging.warning('Sorry you have Low balance: %s', amount)\n",
        "\n",
        "MyBalance(10000)\n"
      ]
    },
    {
      "cell_type": "markdown",
      "metadata": {
        "id": "5_YtIoapTWNj"
      },
      "source": [
        "# Error"
      ]
    },
    {
      "cell_type": "code",
      "execution_count": null,
      "metadata": {
        "id": "aiFZJkVkTWNj",
        "outputId": "ec21ff13-4ebb-4bbf-be47-4461a6a6b52b"
      },
      "outputs": [
        {
          "name": "stderr",
          "output_type": "stream",
          "text": [
            "ERROR:root:You are trying to divide by zero, which is not allowed\n"
          ]
        }
      ],
      "source": [
        "import logging\n",
        "\n",
        "logging.basicConfig(level=logging.ERROR)\n",
        "\n",
        "def LetUsDivide(n, d):\n",
        "    try:\n",
        "        result = n / d\n",
        "    except ZeroDivisionError:\n",
        "        logging.error('You are trying to divide by zero, which is not allowed')\n",
        "    else:\n",
        "        return result\n",
        "\n",
        "LetUsDivide(4, 0)\n"
      ]
    },
    {
      "cell_type": "markdown",
      "metadata": {
        "id": "5_Y4-aqhTWNj"
      },
      "source": [
        "# Critical Errors"
      ]
    },
    {
      "cell_type": "code",
      "execution_count": null,
      "metadata": {
        "id": "KyndUFcyTWNj",
        "outputId": "ea164284-d084-4131-84a0-2634a25b829b"
      },
      "outputs": [
        {
          "name": "stderr",
          "output_type": "stream",
          "text": [
            "CRITICAL:root:System failure: You need to handle the issue now\n"
          ]
        }
      ],
      "source": [
        "import logging\n",
        "\n",
        "logging.basicConfig(level=logging.CRITICAL)\n",
        "\n",
        "def LetUsCheckSystem(sys):\n",
        "    if sys != 'OK':\n",
        "        logging.critical('System failure: %s', sys)\n",
        "\n",
        "LetUsCheckSystem('You need to handle the issue now')\n"
      ]
    },
    {
      "cell_type": "markdown",
      "metadata": {
        "id": "9cd8jWNzTWNj"
      },
      "source": [
        "# Save to a file"
      ]
    },
    {
      "cell_type": "code",
      "execution_count": null,
      "metadata": {
        "id": "CNLQhIdITWNj"
      },
      "outputs": [],
      "source": [
        "import os\n",
        "\n",
        "# Specify the directory and file\n",
        "dir_path = r'C:\\Users\\Dell\\Desktop\\June\\Latest\\iNeuron\\Sessions\\17_18June2023'\n",
        "log_file = 'system.txt'\n",
        "full_path = os.path.join(dir_path, log_file)\n",
        "\n",
        "# Check if the directory exists and create it if necessary\n",
        "os.makedirs(dir_path, exist_ok=True)\n",
        "\n",
        "# Try writing a test message to the file\n",
        "with open(full_path, 'w') as f:\n",
        "    f.write('This is a test message')\n"
      ]
    },
    {
      "cell_type": "code",
      "execution_count": null,
      "metadata": {
        "id": "FAlhn52JTWNj",
        "outputId": "605238d4-ab3d-4c8b-f48b-4f3f8d4328f1"
      },
      "outputs": [
        {
          "name": "stdout",
          "output_type": "stream",
          "text": [
            "C:\\Users\\Dell\\Desktop\\June\\Latest\\iNeuron\\Sessions\\17_18June2023\n"
          ]
        }
      ],
      "source": [
        "import os\n",
        "print(os.getcwd())\n"
      ]
    },
    {
      "cell_type": "code",
      "execution_count": null,
      "metadata": {
        "id": "N6oKHnkrTWNj"
      },
      "outputs": [],
      "source": [
        "import os\n",
        "import logging\n",
        "\n",
        "# Specify the directory and file\n",
        "dir_path = r'C:\\Users\\Dell\\Desktop\\June\\Latest\\iNeuron\\Sessions\\17_18June2023'\n",
        "log_file = 'system.txt'\n",
        "full_path = os.path.join(dir_path, log_file)\n",
        "\n",
        "# Check if the directory exists and create it if necessary\n",
        "os.makedirs(dir_path, exist_ok=True)\n",
        "\n",
        "# Set up logging\n",
        "# Get a logger instance (this will fetch the root logger)\n",
        "logger = logging.getLogger()\n",
        "\n",
        "# Set the level of the logger to CRITICAL\n",
        "# This means it will handle events of level CRITICAL and above\n",
        "logger.setLevel(logging.CRITICAL)\n",
        "\n",
        "# Create a FileHandler instance to write logs to a file\n",
        "handler = logging.FileHandler(full_path)\n",
        "\n",
        "# Set the format of the logs using a Formatter\n",
        "# This format includes the log timestamp, log level and log message\n",
        "handler.setFormatter(logging.Formatter('%(asctime)s:%(levelname)s:%(message)s'))\n",
        "\n",
        "# Add the handler to the logger\n",
        "# This connects the logger to the handler so that logs get written to the file\n",
        "logger.addHandler(handler)\n",
        "\n",
        "\n",
        "def LetUsCheckSystem(sys):\n",
        "    if sys != 'OK':\n",
        "        logging.critical('System failure: %s', sys)\n",
        "\n",
        "LetUsCheckSystem('You need to handle the issue now')\n",
        "handler.close()\n"
      ]
    },
    {
      "cell_type": "code",
      "execution_count": null,
      "metadata": {
        "id": "wzH3uPITTWNk",
        "outputId": "d342e3b8-67b0-4d07-8192-a303d07047bb"
      },
      "outputs": [
        {
          "name": "stdout",
          "output_type": "stream",
          "text": [
            "> \u001b[1;32m<ipython-input-39-7ea871499ca9>\u001b[0m(5)\u001b[0;36maddition\u001b[1;34m()\u001b[0m\n",
            "\u001b[1;32m      3 \u001b[1;33m\u001b[1;32mdef\u001b[0m \u001b[0maddition\u001b[0m\u001b[1;33m(\u001b[0m\u001b[0ma\u001b[0m\u001b[1;33m,\u001b[0m \u001b[0mb\u001b[0m\u001b[1;33m)\u001b[0m\u001b[1;33m:\u001b[0m\u001b[1;33m\u001b[0m\u001b[1;33m\u001b[0m\u001b[0m\n",
            "\u001b[0m\u001b[1;32m      4 \u001b[1;33m    \u001b[0mpdb\u001b[0m\u001b[1;33m.\u001b[0m\u001b[0mset_trace\u001b[0m\u001b[1;33m(\u001b[0m\u001b[1;33m)\u001b[0m  \u001b[1;31m# Set a breakpoint here\u001b[0m\u001b[1;33m\u001b[0m\u001b[1;33m\u001b[0m\u001b[0m\n",
            "\u001b[0m\u001b[1;32m----> 5 \u001b[1;33m    \u001b[0mresult\u001b[0m \u001b[1;33m=\u001b[0m \u001b[0ma\u001b[0m \u001b[1;33m+\u001b[0m \u001b[0mb\u001b[0m\u001b[1;33m\u001b[0m\u001b[1;33m\u001b[0m\u001b[0m\n",
            "\u001b[0m\u001b[1;32m      6 \u001b[1;33m    \u001b[1;32mreturn\u001b[0m \u001b[0mresult\u001b[0m\u001b[1;33m\u001b[0m\u001b[1;33m\u001b[0m\u001b[0m\n",
            "\u001b[0m\u001b[1;32m      7 \u001b[1;33m\u001b[1;33m\u001b[0m\u001b[0m\n",
            "\u001b[0m\n",
            "ipdb> 2\n",
            "2\n",
            "ipdb> 2\n",
            "2\n",
            "ipdb> 2\n",
            "2\n"
          ]
        }
      ],
      "source": [
        "import pdb\n",
        "\n",
        "def addition(a, b):\n",
        "    pdb.set_trace()  # Set a breakpoint here\n",
        "    result = a + b\n",
        "    return result\n",
        "\n",
        "print(addition(5, 7))\n"
      ]
    },
    {
      "cell_type": "code",
      "execution_count": null,
      "metadata": {
        "id": "6P8G40hhTWNk"
      },
      "outputs": [],
      "source": []
    }
  ],
  "metadata": {
    "kernelspec": {
      "display_name": "Python 3",
      "language": "python",
      "name": "python3"
    },
    "language_info": {
      "codemirror_mode": {
        "name": "ipython",
        "version": 3
      },
      "file_extension": ".py",
      "mimetype": "text/x-python",
      "name": "python",
      "nbconvert_exporter": "python",
      "pygments_lexer": "ipython3",
      "version": "3.8.5"
    },
    "colab": {
      "provenance": []
    }
  },
  "nbformat": 4,
  "nbformat_minor": 0
}