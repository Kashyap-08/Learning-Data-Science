{
 "cells": [
  {
   "cell_type": "markdown",
   "id": "b030e6c0-11b4-47dd-85c7-37289804247b",
   "metadata": {},
   "source": [
    "### Example 1"
   ]
  },
  {
   "cell_type": "code",
   "execution_count": 2,
   "id": "6798e16b-a914-41a3-bedd-47f3bc0205af",
   "metadata": {},
   "outputs": [],
   "source": [
    "#create class\n",
    "class BankAcc:\n",
    "    def __init__(self, acc_no, acc_holder, bal=0):\n",
    "        self.acc_no = acc_no\n",
    "        self.acc_holder = acc_holder\n",
    "        self.bal = bal\n",
    "        \n",
    "    def deposit(self, amount):\n",
    "        self.bal+=amount\n",
    "        \n",
    "    def withdraw(self, withdraw_amount):\n",
    "        if self.bal < withdraw_amount:\n",
    "            print(f\"you dont have suffecient balance. your blance is {self.bal}\")\n",
    "        self.bal -= withdraw_amount\n",
    "        \n",
    "    def __str__(self):\n",
    "        return f\"The account {self.acc_no} which is of {self.acc_holder} has {self.bal} balance\""
   ]
  },
  {
   "cell_type": "code",
   "execution_count": 3,
   "id": "9e49096f-fab1-489d-9649-76fe77905748",
   "metadata": {},
   "outputs": [
    {
     "name": "stdout",
     "output_type": "stream",
     "text": [
      "The account 124 which is of kash has 1000 balance\n"
     ]
    }
   ],
   "source": [
    "acc1 = BankAcc(124,\"kash\",1000)\n",
    "print(acc1)"
   ]
  },
  {
   "cell_type": "code",
   "execution_count": 4,
   "id": "ae6550e8-5ae6-471d-87c7-9d10c3ec0ab0",
   "metadata": {},
   "outputs": [
    {
     "name": "stdout",
     "output_type": "stream",
     "text": [
      "The account 124 which is of kash has 2000 balance\n"
     ]
    }
   ],
   "source": [
    "acc1.deposit(1000)\n",
    "print(acc1)"
   ]
  },
  {
   "cell_type": "code",
   "execution_count": 5,
   "id": "1d92bb60-d57c-45dc-a578-cfc94368c646",
   "metadata": {},
   "outputs": [
    {
     "name": "stdout",
     "output_type": "stream",
     "text": [
      "The account 124 which is of kash has 1500 balance\n"
     ]
    }
   ],
   "source": [
    "acc1.withdraw(500)\n",
    "print(acc1)"
   ]
  },
  {
   "cell_type": "code",
   "execution_count": 6,
   "id": "ff014fb3-c4c3-42c6-89a3-11cc0a43de44",
   "metadata": {},
   "outputs": [
    {
     "name": "stdout",
     "output_type": "stream",
     "text": [
      "you dont have suffecient balance. your blance is 1500\n"
     ]
    }
   ],
   "source": [
    "acc1.withdraw(2000)"
   ]
  },
  {
   "cell_type": "code",
   "execution_count": null,
   "id": "45994f43-c7e1-4269-a4e1-aec94c651e79",
   "metadata": {},
   "outputs": [],
   "source": []
  },
  {
   "cell_type": "markdown",
   "id": "87d50b04-96c1-4104-890f-67dffa8fceef",
   "metadata": {},
   "source": [
    "## Example 2"
   ]
  },
  {
   "cell_type": "code",
   "execution_count": 44,
   "id": "065f790e-4a39-4d94-94a4-e9e3aab4efba",
   "metadata": {},
   "outputs": [],
   "source": [
    "# class representing a todo list\n",
    "\n",
    "class TodoList:\n",
    "    #constructor\n",
    "    def __init__(self, owner):\n",
    "        self.owner = owner\n",
    "        self.task = []\n",
    "        \n",
    "    def addTask(self,task):\n",
    "        self.task.append(task)\n",
    "        \n",
    "    def complete_task(self,task):\n",
    "        if task in self.task:\n",
    "            self.task.remove(task)\n",
    "            print(f\"task {task} is completed\")\n",
    "        else:\n",
    "            print(\"task not founnd\")\n",
    "                  \n",
    "    def display_task(self):\n",
    "        print(f\"The ToDo list of {self.owner}\")\n",
    "        for i in self.task:\n",
    "            print(i)"
   ]
  },
  {
   "cell_type": "code",
   "execution_count": 45,
   "id": "ec973d21-57b9-45a8-9e0a-3706fdfa5392",
   "metadata": {},
   "outputs": [],
   "source": [
    "todo1 = TodoList(\"kash\")"
   ]
  },
  {
   "cell_type": "code",
   "execution_count": 46,
   "id": "870a6934-7cbd-4b6d-9fcd-ad8bb96a31c0",
   "metadata": {},
   "outputs": [
    {
     "data": {
      "text/plain": [
       "[]"
      ]
     },
     "execution_count": 46,
     "metadata": {},
     "output_type": "execute_result"
    }
   ],
   "source": [
    "todo1.task"
   ]
  },
  {
   "cell_type": "code",
   "execution_count": 47,
   "id": "d4a36b9f-b07f-4160-8436-48920f98e2af",
   "metadata": {},
   "outputs": [],
   "source": [
    "todo1.addTask(\"Wakeup at morning 7 AM\")"
   ]
  },
  {
   "cell_type": "code",
   "execution_count": 48,
   "id": "567a1fb6-8e46-46ad-bc30-c58471257614",
   "metadata": {},
   "outputs": [
    {
     "data": {
      "text/plain": [
       "['Wakeup at morning 7 AM']"
      ]
     },
     "execution_count": 48,
     "metadata": {},
     "output_type": "execute_result"
    }
   ],
   "source": [
    "todo1.task"
   ]
  },
  {
   "cell_type": "code",
   "execution_count": 49,
   "id": "bf0b06f1-f395-4fb7-b58e-738df308852e",
   "metadata": {},
   "outputs": [],
   "source": [
    "todo1.addTask(\"have lunch at 10AM\")"
   ]
  },
  {
   "cell_type": "code",
   "execution_count": 50,
   "id": "6f6ef35d-5bf5-4a79-ab3a-64e0816d68ee",
   "metadata": {},
   "outputs": [
    {
     "data": {
      "text/plain": [
       "['Wakeup at morning 7 AM', 'have lunch at 10AM']"
      ]
     },
     "execution_count": 50,
     "metadata": {},
     "output_type": "execute_result"
    }
   ],
   "source": [
    "todo1.task"
   ]
  },
  {
   "cell_type": "code",
   "execution_count": 51,
   "id": "0f038492-5d16-46f9-a270-2887e3856e39",
   "metadata": {},
   "outputs": [
    {
     "name": "stdout",
     "output_type": "stream",
     "text": [
      "task Wakeup at morning 7 AM is completed\n"
     ]
    }
   ],
   "source": [
    "todo1.complete_task(\"Wakeup at morning 7 AM\")"
   ]
  },
  {
   "cell_type": "code",
   "execution_count": 52,
   "id": "97625e7a-b188-4a5a-8fb8-7033bd4e12d7",
   "metadata": {},
   "outputs": [
    {
     "name": "stdout",
     "output_type": "stream",
     "text": [
      "The ToDo list of kash\n",
      "have lunch at 10AM\n"
     ]
    }
   ],
   "source": [
    "todo1.display_task()"
   ]
  },
  {
   "cell_type": "code",
   "execution_count": null,
   "id": "d281fb19-2b8a-4786-a418-0147761f95dd",
   "metadata": {},
   "outputs": [],
   "source": []
  },
  {
   "cell_type": "markdown",
   "id": "47f7ccf4-aebc-4e8b-914a-e80dca6cd1cb",
   "metadata": {},
   "source": [
    "## Example 3"
   ]
  },
  {
   "cell_type": "code",
   "execution_count": 53,
   "id": "e88d5694-022c-4337-8997-3006e9a73dbd",
   "metadata": {},
   "outputs": [],
   "source": [
    "class Car:\n",
    "    def __init__(self, brand, model, color):\n",
    "        self.brand = brand\n",
    "        self.model = model\n",
    "        self.color = color"
   ]
  },
  {
   "cell_type": "code",
   "execution_count": 58,
   "id": "1ab0069c-652f-48db-8b83-4ee72423ae9d",
   "metadata": {},
   "outputs": [],
   "source": [
    "car1 = Car(\"maruti\", \"s1000\", \"red\")"
   ]
  },
  {
   "cell_type": "code",
   "execution_count": 59,
   "id": "587f357a-0c56-43f7-8b2c-b6750e7858fe",
   "metadata": {},
   "outputs": [
    {
     "data": {
      "text/plain": [
       "'maruti'"
      ]
     },
     "execution_count": 59,
     "metadata": {},
     "output_type": "execute_result"
    }
   ],
   "source": [
    "car1.brand"
   ]
  },
  {
   "cell_type": "code",
   "execution_count": null,
   "id": "b029c9dc-ed4a-49a3-9f48-68fe9785b88c",
   "metadata": {},
   "outputs": [],
   "source": []
  },
  {
   "cell_type": "markdown",
   "id": "a34d8e86-a5b7-4c0d-968c-1fbecc00291d",
   "metadata": {},
   "source": [
    "# Inheritance"
   ]
  },
  {
   "cell_type": "markdown",
   "id": "13e16268-9683-41de-92a6-7eee563f6ae2",
   "metadata": {},
   "source": [
    "## Example 1"
   ]
  },
  {
   "cell_type": "code",
   "execution_count": 2,
   "id": "7bad5c8d-40f2-42ae-b8f9-52fa24c09ffb",
   "metadata": {},
   "outputs": [],
   "source": [
    "class person:\n",
    "    def __init__(self, name):\n",
    "        self.name = name\n",
    "        \n",
    "    def print_info(self):\n",
    "        print(f\"Students name is: {self.name}\")"
   ]
  },
  {
   "cell_type": "code",
   "execution_count": 3,
   "id": "28d6e394-9a51-42d3-b19a-2eb3f8ca06f7",
   "metadata": {},
   "outputs": [],
   "source": [
    "class grade(person):\n",
    "    def __init__(self, name, grade):\n",
    "        super().__init__(name)\n",
    "        self.grade = grade\n",
    "    \n",
    "    def print_info(self):\n",
    "        super().print_info()\n",
    "        print(f\"Grade is: {self.grade}\")"
   ]
  },
  {
   "cell_type": "code",
   "execution_count": 4,
   "id": "1500ecb3-81b7-4c1e-931e-8e98f6301075",
   "metadata": {},
   "outputs": [
    {
     "name": "stdout",
     "output_type": "stream",
     "text": [
      "Students name is: kashyap\n",
      "Grade is: A+\n"
     ]
    }
   ],
   "source": [
    "std1 = grade(\"kashyap\", \"A+\")\n",
    "std1.print_info()"
   ]
  },
  {
   "cell_type": "markdown",
   "id": "2f71c9f7-0838-440d-85a8-36a032870040",
   "metadata": {},
   "source": [
    "## Example 2"
   ]
  },
  {
   "cell_type": "code",
   "execution_count": 13,
   "id": "906a3666-2ec0-4b6c-96f8-1cf7074fc675",
   "metadata": {},
   "outputs": [],
   "source": [
    "class vehicle:\n",
    "    def __init__(self, brand):\n",
    "        self.brand = brand\n",
    "        \n",
    "    def start(self):\n",
    "        print(f\"Car of {self.brand} brand is started\")"
   ]
  },
  {
   "cell_type": "code",
   "execution_count": 14,
   "id": "245258fa-6539-46d4-a7f7-c1153c020337",
   "metadata": {},
   "outputs": [],
   "source": [
    "class Bicycle(vehicle):\n",
    "    def __init__(self, brand, model):\n",
    "        super().__init__(brand)\n",
    "        self.model = model\n",
    "        \n",
    "    def start(self):\n",
    "        super().start()\n",
    "        print(f\"{self.brand} and {self.model} is good to go.\")"
   ]
  },
  {
   "cell_type": "code",
   "execution_count": 15,
   "id": "4d6373e3-eda8-40d5-9c56-5ef3eb02657e",
   "metadata": {},
   "outputs": [
    {
     "name": "stdout",
     "output_type": "stream",
     "text": [
      "Car of BMW brand is started\n",
      "BMW and s12 is good to go.\n"
     ]
    }
   ],
   "source": [
    "engin1 = Bicycle(\"BMW\", \"s12\")\n",
    "engin1.start()"
   ]
  },
  {
   "cell_type": "markdown",
   "id": "0236c47c-a91a-4999-b84b-57bcda347bbb",
   "metadata": {},
   "source": [
    "## Example 3"
   ]
  },
  {
   "cell_type": "code",
   "execution_count": 33,
   "id": "faf684dd-9b33-4053-aa86-f10dddd331c2",
   "metadata": {},
   "outputs": [],
   "source": [
    "class Animal:\n",
    "    def __init__(self, name):\n",
    "        self.name = name\n",
    "    \n",
    "    def sound(self):\n",
    "        print(\"No animal found\")\n",
    "    \n",
    "class Dog(Animal):\n",
    "    def __init__(self, name):\n",
    "        super().__init__(name)\n",
    "        \n",
    "    def sound(self):\n",
    "        print(f\"{self.name} Barks\")\n",
    "        \n",
    "class Cat(Animal):\n",
    "    def __init__(self, name):\n",
    "        super().__init__(name)\n",
    "        \n",
    "    def sound(self):\n",
    "        print(f\"{self.name} Mawees\")"
   ]
  },
  {
   "cell_type": "code",
   "execution_count": 34,
   "id": "38fe3781-d377-411a-a4d4-58850b23fd9f",
   "metadata": {},
   "outputs": [
    {
     "name": "stdout",
     "output_type": "stream",
     "text": [
      "DOG Barks\n"
     ]
    }
   ],
   "source": [
    "dog1 = Dog(\"DOG\")\n",
    "dog1.sound()"
   ]
  },
  {
   "cell_type": "markdown",
   "id": "d3e8e499-bfef-43fe-9033-99ca39a05b87",
   "metadata": {},
   "source": [
    "### Access Modifier\n",
    "\n",
    "#### PUBLIC"
   ]
  },
  {
   "cell_type": "code",
   "execution_count": 37,
   "id": "d0728099-f6c7-4138-8fbd-7585d07946f9",
   "metadata": {},
   "outputs": [
    {
     "name": "stdout",
     "output_type": "stream",
     "text": [
      "Name of the student is kash, and grade is A+\n"
     ]
    }
   ],
   "source": [
    "class Student:\n",
    "    def __init__(self, name):\n",
    "        self.name = name\n",
    "        \n",
    "    def display(self):\n",
    "        print(f\"Name of the student is: {self.name}\")\n",
    "        \n",
    "class Grade(Student):\n",
    "    def __init__(self, name, grade):\n",
    "        super().__init__(name)\n",
    "        self.grade = grade\n",
    "        \n",
    "    def display_info(self):\n",
    "        print(f\"Name of the student is {self.name}, and grade is {self.grade}\")\n",
    "        \n",
    "g1 = Grade(\"kash\",\"A+\")\n",
    "g1.display_info()"
   ]
  },
  {
   "cell_type": "markdown",
   "id": "724b4581-0446-48dd-82e9-070f93fe1c7d",
   "metadata": {},
   "source": [
    "#### PROTECTED"
   ]
  },
  {
   "cell_type": "code",
   "execution_count": 40,
   "id": "f33d9c1d-6805-4192-8ddd-8c9c4d4a480d",
   "metadata": {},
   "outputs": [
    {
     "name": "stdout",
     "output_type": "stream",
     "text": [
      "Name of the student is kash, and grade is A+\n"
     ]
    }
   ],
   "source": [
    "class Student:\n",
    "    def __init__(self, name):\n",
    "        # protected variable contain one '_'.\n",
    "        self._name = name\n",
    "        \n",
    "    # protected method\n",
    "    def _display(self):\n",
    "        print(f\"Name of the student is: {self._name}\")\n",
    "        \n",
    "class Grade(Student):\n",
    "    def __init__(self, name, grade):\n",
    "        super().__init__(name)\n",
    "        self.grade = grade\n",
    "        \n",
    "    def display_info(self):\n",
    "        print(f\"Name of the student is {self._name}, and grade is {self.grade}\")\n",
    "        \n",
    "g1 = Grade(\"kash\",\"A+\")\n",
    "g1.display_info()"
   ]
  },
  {
   "cell_type": "markdown",
   "id": "3e60900f-2456-4050-ab98-c710bef3f253",
   "metadata": {},
   "source": [
    "#### PRIVATE"
   ]
  },
  {
   "cell_type": "code",
   "execution_count": 45,
   "id": "dd297f72-cb4c-4cbe-8146-9ca7f9c533c9",
   "metadata": {},
   "outputs": [
    {
     "name": "stdout",
     "output_type": "stream",
     "text": [
      "Name of the student is kash, and grade is A+\n"
     ]
    }
   ],
   "source": [
    "class Student:\n",
    "    def __init__(self, name):\n",
    "        # private variable contain two '_'.\n",
    "        self.__name = name\n",
    "        \n",
    "    # private method\n",
    "    def __display(self):\n",
    "        print(f\"Name of the student is: {self.__name}\")\n",
    "        \n",
    "class Grade(Student):\n",
    "    def __init__(self, name, grade):\n",
    "        super().__init__(name)\n",
    "        self.grade = grade\n",
    "        \n",
    "    def display_info(self):\n",
    "        print(f\"Name of the student is {self._Student__name}, and grade is {self.grade}\")\n",
    "        \n",
    "g1 = Grade(\"kash\",\"A+\")\n",
    "g1.display_info()"
   ]
  },
  {
   "cell_type": "markdown",
   "id": "6af52588-171f-4680-b210-d4038b18d62f",
   "metadata": {},
   "source": [
    "## Polimorphism\n",
    "multiple forms"
   ]
  },
  {
   "cell_type": "code",
   "execution_count": 46,
   "id": "2ee91064-0df5-47bd-ae16-894ff20231f7",
   "metadata": {},
   "outputs": [],
   "source": [
    "class Animal:\n",
    "    def __init__(self, name):\n",
    "        self.name = name\n",
    "        \n",
    "    def make_sound(self):\n",
    "        return \"No Animal Added\"\n",
    "    \n",
    "class Dog(Animal):\n",
    "    def make_sound(self):\n",
    "        return \"Wooff\"\n",
    "    \n",
    "class Cat(Animal):\n",
    "    def make_sound(self):\n",
    "        return \"MEaww\""
   ]
  },
  {
   "cell_type": "code",
   "execution_count": 48,
   "id": "6568d9f8-3e54-4d9a-a752-eaf102ce6f7c",
   "metadata": {},
   "outputs": [
    {
     "data": {
      "text/plain": [
       "'Wooff'"
      ]
     },
     "execution_count": 48,
     "metadata": {},
     "output_type": "execute_result"
    }
   ],
   "source": [
    "d1 = Dog(\"tommy\")\n",
    "d1.make_sound()"
   ]
  },
  {
   "cell_type": "code",
   "execution_count": null,
   "id": "e8238ac8-af58-4170-9f4d-aac26cb2e3bc",
   "metadata": {},
   "outputs": [],
   "source": []
  },
  {
   "cell_type": "markdown",
   "id": "75a5903c-54a2-4c46-a975-13f9a11fdde5",
   "metadata": {},
   "source": [
    "## Class Variables\n",
    "\n",
    "class variables are the variables that are shared by all the instance of the class. they are defined within the class but outside anny method or constructor. Class variables are associated with class itself rather then specific instances of the class.\n",
    "\n",
    "## Class Method:\n",
    "In python, class method is a special type of method that is bound to the class rather than to the instance of the class. It is defined with @classmethod decorator, followed by the function defination within the class. Class method have access to class itself as the first paramter, conventionally named class, insted of instance(self) that is used in regular methods."
   ]
  },
  {
   "cell_type": "markdown",
   "id": "cfa778e7-5d37-4c41-93b1-592f173df95b",
   "metadata": {},
   "source": [
    "#### Example 1"
   ]
  },
  {
   "cell_type": "code",
   "execution_count": 28,
   "id": "f5b5da6c-2c4f-4479-99c7-14119c57baa3",
   "metadata": {},
   "outputs": [
    {
     "name": "stdout",
     "output_type": "stream",
     "text": [
      "Class varaible before updating: 10\n",
      "Class variable after updating: 20\n",
      "Object1 of class variable: intance variable is wipro\n",
      "Object2 of class variable: intance variable is BBI\n"
     ]
    }
   ],
   "source": [
    "class Company:\n",
    "    class_var = 10\n",
    "    \n",
    "    def __init__(self, instance_var): # instance variable\n",
    "        self.instance_var = instance_var\n",
    "        \n",
    "    # Instance Method\n",
    "    def display_info(self):\n",
    "        return f\"intance variable is {self.instance_var}\"\n",
    "    \n",
    "    # class method\n",
    "    @classmethod\n",
    "    def update_name(cls, var):\n",
    "        cls.class_var = var\n",
    "        \n",
    "# Claaing class variables\n",
    "print(f\"Class varaible before updating: {Company.class_var}\")\n",
    "\n",
    "# Calling class method\n",
    "Company.update_name(20)\n",
    "print(f\"Class variable after updating: {Company.class_var}\")\n",
    "    \n",
    "# Create instance of the class\n",
    "obj1 = Company(\"wipro\")\n",
    "obj2 = Company(\"BBI\")\n",
    "\n",
    "print(f\"Object1 of class variable: {obj1.display_info()}\")\n",
    "print(f\"Object2 of class variable: {obj2.display_info()}\")\n",
    "    "
   ]
  },
  {
   "cell_type": "code",
   "execution_count": 29,
   "id": "1632e00f-20a0-4f68-b6f5-0112ef97e9ae",
   "metadata": {},
   "outputs": [
    {
     "name": "stdout",
     "output_type": "stream",
     "text": [
      "Class varaible before updating: 10\n",
      "Class variable after updating: 20\n",
      "Object1 of class variable: intance variable is wipro\n",
      "Object2 of class variable: intance variable is BBI\n"
     ]
    }
   ],
   "source": [
    "# The above example can also be written in the following way, where we can use any keyword insted of 'self' or 'cls' keyword.\n",
    "# But while using another keyword make sure you are using the same inside the method\n",
    "\n",
    "class Company:\n",
    "    class_var = 10\n",
    "    \n",
    "    def __init__(abc, instance_var): # instance variable\n",
    "        abc.instance_var = instance_var\n",
    "        \n",
    "    # Instance Method\n",
    "    def display_info(xyz):\n",
    "        return f\"intance variable is {xyz.instance_var}\"\n",
    "    \n",
    "    # class method\n",
    "    @classmethod\n",
    "    def update_name(lmn, var):\n",
    "        lmn.class_var = var\n",
    "        \n",
    "# Claaing class variables\n",
    "print(f\"Class varaible before updating: {Company.class_var}\")\n",
    "\n",
    "# Calling class method\n",
    "Company.update_name(20)\n",
    "print(f\"Class variable after updating: {Company.class_var}\")\n",
    "    \n",
    "# Create instance of the class\n",
    "obj1 = Company(\"wipro\")\n",
    "obj2 = Company(\"BBI\")\n",
    "\n",
    "print(f\"Object1 of class variable: {obj1.display_info()}\")\n",
    "print(f\"Object2 of class variable: {obj2.display_info()}\")\n"
   ]
  },
  {
   "cell_type": "markdown",
   "id": "a3ae9636-ec3b-4cc0-bf5a-5ae14b4c91a4",
   "metadata": {},
   "source": [
    "#### Example 2"
   ]
  },
  {
   "cell_type": "code",
   "execution_count": 1,
   "id": "d1e4d60e-a7e6-4cd9-962a-1f92643d6dac",
   "metadata": {},
   "outputs": [],
   "source": [
    "class Car:\n",
    "    base_price = 100000\n",
    "    \n",
    "    def __init__(self, model, brand):\n",
    "        self.model = model\n",
    "        self.brand = brand\n",
    "        \n",
    "    def display(self):\n",
    "        print(f\"The base price is {self.base_price}\")\n",
    "        \n",
    "    @classmethod\n",
    "    def update_base_price(cls, inflation):\n",
    "        cls.base_price = cls.base_price + (cls.base_price *(inflation/100))"
   ]
  },
  {
   "cell_type": "code",
   "execution_count": 2,
   "id": "e30256f6-067e-401e-90c9-78b8b4b27516",
   "metadata": {},
   "outputs": [
    {
     "name": "stdout",
     "output_type": "stream",
     "text": [
      "The base price is 100000\n"
     ]
    }
   ],
   "source": [
    "car1 = Car(\"BMW\", \"EV\")\n",
    "car1.display()"
   ]
  },
  {
   "cell_type": "code",
   "execution_count": 3,
   "id": "dae176ae-360c-4825-a434-76693d1c551f",
   "metadata": {},
   "outputs": [
    {
     "data": {
      "text/plain": [
       "110000.0"
      ]
     },
     "execution_count": 3,
     "metadata": {},
     "output_type": "execute_result"
    }
   ],
   "source": [
    "Car.update_base_price(10)\n",
    "Car.base_price"
   ]
  },
  {
   "cell_type": "markdown",
   "id": "7025a0cf-6d82-4d39-afff-f1178118b695",
   "metadata": {},
   "source": [
    "## Static Methods\n",
    "In Python, a static method is a method that belongs to a class but doesn't have access to the class itself (via self) or its instances. Static methods are defined using the @staticmethod decorator and are typically used when a method doesn't require access to instance-specific data or class-specific data.\n",
    "\n",
    "Static methods are often used when you have a utility function or a method that doesn't depend on the state of a specific instance or the class itself. They are self-contained and don't have access to instance variables or class variables unless they are explicitly passed as arguments.\n",
    "\n",
    "It's important to note that static methods don't have the ability to modify the state of the instance or the class. They are independent of any specific instance and can be called without creating an instance of the class.\n",
    "\n"
   ]
  },
  {
   "cell_type": "markdown",
   "id": "be4a61cf-2e52-44c2-b248-43b4f51dcf15",
   "metadata": {},
   "source": [
    "#### Example 1"
   ]
  },
  {
   "cell_type": "code",
   "execution_count": 18,
   "id": "687fba62-2d6e-462a-9feb-e7c1e9d18484",
   "metadata": {},
   "outputs": [],
   "source": [
    "class Car:\n",
    "    base_price = 100000\n",
    "    \n",
    "    def __init__(self, model, brand):\n",
    "        self.model = model\n",
    "        self.brand = brand\n",
    "        \n",
    "    def display(self):\n",
    "        print(f\"The base price is {self.base_price}\")\n",
    "        \n",
    "    @classmethod\n",
    "    def update_base_price(cls, inflation):\n",
    "        print(cls.base_price)\n",
    "        cls.base_price = cls.base_price + (cls.base_price *(inflation/100))\n",
    "        \n",
    "    # Static method work as a utility methods. \n",
    "    # The purpose is to write this method is when we want to check or execute any condition only once before starting our program execution.\n",
    "    # We do not sepcify self in this method, as it is not bound to any instance and its nither a class method.\n",
    "    @staticmethod\n",
    "    def check_year(cls, year):\n",
    "        print(cls.base_price) # we can use class variable in static method\n",
    "        if year == 2024:\n",
    "            return True\n",
    "        else:\n",
    "            return False\n",
    "        \n",
    "    # We can not use instance variables in static method, \n",
    "    # only class variables can be used that also when the variable is called with class name.\n",
    "    @staticmethod\n",
    "    def print_car_info():\n",
    "        print(f\"The car base price is: {Car.base_price}\")\n",
    "        "
   ]
  },
  {
   "cell_type": "code",
   "execution_count": 19,
   "id": "c85f7cdf",
   "metadata": {},
   "outputs": [
    {
     "name": "stdout",
     "output_type": "stream",
     "text": [
      "100000\n"
     ]
    }
   ],
   "source": [
    "Car.update_base_price(2.5)"
   ]
  },
  {
   "cell_type": "code",
   "execution_count": 21,
   "id": "1fe6895a-fc9b-49f9-a8e8-0fa222d11e38",
   "metadata": {},
   "outputs": [
    {
     "name": "stdout",
     "output_type": "stream",
     "text": [
      "102500.0\n"
     ]
    },
    {
     "data": {
      "text/plain": [
       "True"
      ]
     },
     "execution_count": 21,
     "metadata": {},
     "output_type": "execute_result"
    }
   ],
   "source": [
    "Car.check_year(Car,2024)"
   ]
  },
  {
   "cell_type": "code",
   "execution_count": 25,
   "id": "0343f5a0-02ec-4b7f-893d-2d45b1c38212",
   "metadata": {},
   "outputs": [
    {
     "name": "stdout",
     "output_type": "stream",
     "text": [
      "The car base price is: 100000\n"
     ]
    }
   ],
   "source": [
    "Car.print_car_info()"
   ]
  },
  {
   "cell_type": "markdown",
   "id": "7ec12ef6-b20f-4973-a9dd-6f5395ba35ed",
   "metadata": {},
   "source": [
    "## Data Class\n",
    "\n",
    "Data class are the type of decorator that are used to initialise the values without using `__init__()` method.\n",
    "It will automatically create constructor."
   ]
  },
  {
   "cell_type": "code",
   "execution_count": 2,
   "id": "da77ae85-4832-4f85-a056-bfce0acffd9a",
   "metadata": {},
   "outputs": [],
   "source": [
    "from dataclasses import dataclass\n",
    "\n",
    "@dataclass\n",
    "class Person:\n",
    "    first_name: str\n",
    "    last_name: str\n",
    "    \n",
    "    def display(self):\n",
    "        print(f\"The name of the person is: {self.first_name} {self.last_name}\")"
   ]
  },
  {
   "cell_type": "code",
   "execution_count": 3,
   "id": "9f3ad5db-a9d7-48c2-978c-0c371f491f0c",
   "metadata": {},
   "outputs": [
    {
     "name": "stdout",
     "output_type": "stream",
     "text": [
      "The name of the person is: kash kol\n"
     ]
    }
   ],
   "source": [
    "p1 = Person(\"kash\", \"kol\")\n",
    "p1.display()"
   ]
  },
  {
   "cell_type": "code",
   "execution_count": 44,
   "id": "d105f1da-f2b8-45b5-b97a-860f76f734f3",
   "metadata": {},
   "outputs": [
    {
     "name": "stdout",
     "output_type": "stream",
     "text": [
      "kash kol\n"
     ]
    }
   ],
   "source": [
    "print(p1.first_name, p1.last_name)"
   ]
  },
  {
   "cell_type": "code",
   "execution_count": null,
   "id": "be746992-65ba-4360-9b35-896250cf9bb8",
   "metadata": {},
   "outputs": [],
   "source": []
  }
 ],
 "metadata": {
  "kernelspec": {
   "display_name": "Python 3 (ipykernel)",
   "language": "python",
   "name": "python3"
  },
  "language_info": {
   "codemirror_mode": {
    "name": "ipython",
    "version": 3
   },
   "file_extension": ".py",
   "mimetype": "text/x-python",
   "name": "python",
   "nbconvert_exporter": "python",
   "pygments_lexer": "ipython3",
   "version": "3.11.3"
  }
 },
 "nbformat": 4,
 "nbformat_minor": 5
}
