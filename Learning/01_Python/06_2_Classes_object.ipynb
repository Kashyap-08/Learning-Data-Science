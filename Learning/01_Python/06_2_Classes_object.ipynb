{
  "cells": [
    {
      "cell_type": "markdown",
      "metadata": {
        "id": "Jph6WZkoTo5E"
      },
      "source": [
        "## Classes And OOPS"
      ]
    },
    {
      "cell_type": "code",
      "execution_count": null,
      "metadata": {
        "id": "3xK2ALctTo5H"
      },
      "outputs": [],
      "source": [
        "## Empty class\n",
        "class Person:\n",
        "    pass"
      ]
    },
    {
      "cell_type": "code",
      "execution_count": null,
      "metadata": {
        "id": "96cmSKwYTo5I"
      },
      "outputs": [],
      "source": [
        "a=[1,2,3,4]"
      ]
    },
    {
      "cell_type": "code",
      "execution_count": null,
      "metadata": {
        "id": "fgX80FwuTo5I",
        "outputId": "99073fa3-47ea-40fe-da67-53a3f923448e"
      },
      "outputs": [
        {
          "data": {
            "text/plain": [
              "['__add__',\n",
              " '__class__',\n",
              " '__contains__',\n",
              " '__delattr__',\n",
              " '__delitem__',\n",
              " '__dir__',\n",
              " '__doc__',\n",
              " '__eq__',\n",
              " '__format__',\n",
              " '__ge__',\n",
              " '__getattribute__',\n",
              " '__getitem__',\n",
              " '__gt__',\n",
              " '__hash__',\n",
              " '__iadd__',\n",
              " '__imul__',\n",
              " '__init__',\n",
              " '__init_subclass__',\n",
              " '__iter__',\n",
              " '__le__',\n",
              " '__len__',\n",
              " '__lt__',\n",
              " '__mul__',\n",
              " '__ne__',\n",
              " '__new__',\n",
              " '__reduce__',\n",
              " '__reduce_ex__',\n",
              " '__repr__',\n",
              " '__reversed__',\n",
              " '__rmul__',\n",
              " '__setattr__',\n",
              " '__setitem__',\n",
              " '__sizeof__',\n",
              " '__str__',\n",
              " '__subclasshook__',\n",
              " 'append',\n",
              " 'clear',\n",
              " 'copy',\n",
              " 'count',\n",
              " 'extend',\n",
              " 'index',\n",
              " 'insert',\n",
              " 'pop',\n",
              " 'remove',\n",
              " 'reverse',\n",
              " 'sort']"
            ]
          },
          "execution_count": 181,
          "metadata": {},
          "output_type": "execute_result"
        }
      ],
      "source": [
        "dir(a)"
      ]
    },
    {
      "cell_type": "code",
      "execution_count": null,
      "metadata": {
        "id": "QPPd4qlSTo5J",
        "outputId": "64160c4d-094c-4d5f-c3a7-b9ad060485aa"
      },
      "outputs": [
        {
          "name": "stdout",
          "output_type": "stream",
          "text": [
            "[1, 2, 3, 4]\n"
          ]
        }
      ],
      "source": [
        "print(a)"
      ]
    },
    {
      "cell_type": "code",
      "execution_count": null,
      "metadata": {
        "id": "ih85v-bZTo5K"
      },
      "outputs": [],
      "source": [
        "a=list()"
      ]
    },
    {
      "cell_type": "code",
      "execution_count": null,
      "metadata": {
        "id": "N1iOw2_fTo5K",
        "outputId": "fb19278c-bd12-45cf-b4de-a1ff70334a64"
      },
      "outputs": [
        {
          "data": {
            "text/plain": [
              "list"
            ]
          },
          "execution_count": 11,
          "metadata": {},
          "output_type": "execute_result"
        }
      ],
      "source": [
        "type(a)"
      ]
    },
    {
      "cell_type": "code",
      "execution_count": null,
      "metadata": {
        "id": "ztotVJLDTo5K"
      },
      "outputs": [],
      "source": [
        "#perosn1 iss  an object or instance\n",
        "person1=Person()"
      ]
    },
    {
      "cell_type": "code",
      "execution_count": null,
      "metadata": {
        "id": "068HeCqoTo5L",
        "outputId": "c283691e-9c61-45da-de7a-938b9ca7cc43"
      },
      "outputs": [
        {
          "name": "stdout",
          "output_type": "stream",
          "text": [
            "<__main__.Person object at 0x0000018899887250>\n"
          ]
        }
      ],
      "source": [
        "print(person1)"
      ]
    },
    {
      "cell_type": "code",
      "execution_count": null,
      "metadata": {
        "id": "I_XmIw0-To5L"
      },
      "outputs": [],
      "source": [
        "person1.name=\"KRish\""
      ]
    },
    {
      "cell_type": "code",
      "execution_count": null,
      "metadata": {
        "id": "i6LvT0m6To5L",
        "outputId": "d4764978-6311-49a8-971e-0fc67c86141a"
      },
      "outputs": [
        {
          "name": "stdout",
          "output_type": "stream",
          "text": [
            "KRish\n"
          ]
        }
      ],
      "source": [
        "print(person1.name)"
      ]
    },
    {
      "cell_type": "code",
      "execution_count": null,
      "metadata": {
        "id": "nqMN4picTo5M"
      },
      "outputs": [],
      "source": [
        "person1.lastname=\"Naik\""
      ]
    },
    {
      "cell_type": "code",
      "execution_count": null,
      "metadata": {
        "id": "t6kBfMB7To5M"
      },
      "outputs": [],
      "source": [
        "person1=Person()"
      ]
    },
    {
      "cell_type": "code",
      "execution_count": null,
      "metadata": {
        "id": "79YewLSHTo5M",
        "outputId": "fca9239c-6f4a-4f74-8a97-8a722a3e1528"
      },
      "outputs": [
        {
          "data": {
            "text/plain": [
              "['__class__',\n",
              " '__delattr__',\n",
              " '__dict__',\n",
              " '__dir__',\n",
              " '__doc__',\n",
              " '__eq__',\n",
              " '__format__',\n",
              " '__ge__',\n",
              " '__getattribute__',\n",
              " '__gt__',\n",
              " '__hash__',\n",
              " '__init__',\n",
              " '__init_subclass__',\n",
              " '__le__',\n",
              " '__lt__',\n",
              " '__module__',\n",
              " '__ne__',\n",
              " '__new__',\n",
              " '__reduce__',\n",
              " '__reduce_ex__',\n",
              " '__repr__',\n",
              " '__setattr__',\n",
              " '__sizeof__',\n",
              " '__str__',\n",
              " '__subclasshook__',\n",
              " '__weakref__',\n",
              " 'lastname',\n",
              " 'name']"
            ]
          },
          "execution_count": 16,
          "metadata": {},
          "output_type": "execute_result"
        }
      ],
      "source": [
        "dir(person1)"
      ]
    },
    {
      "cell_type": "code",
      "execution_count": null,
      "metadata": {
        "id": "E1_tjq37To5M"
      },
      "outputs": [],
      "source": [
        "class Person:\n",
        "    def __init__(self,name1,last_name1):\n",
        "        self.name=name1\n",
        "        self.last_name=last_name1\n",
        "\n",
        "\n"
      ]
    },
    {
      "cell_type": "code",
      "execution_count": null,
      "metadata": {
        "id": "_QKooZYcTo5M"
      },
      "outputs": [],
      "source": [
        "person=Person(\"Krish\",\"Naik\")"
      ]
    },
    {
      "cell_type": "code",
      "execution_count": null,
      "metadata": {
        "id": "uTArXmETTo5M",
        "outputId": "a8fd15e8-3e85-42d3-998c-1382980f614f"
      },
      "outputs": [
        {
          "name": "stdout",
          "output_type": "stream",
          "text": [
            "Krish\n"
          ]
        }
      ],
      "source": [
        "print(person.name)"
      ]
    },
    {
      "cell_type": "code",
      "execution_count": null,
      "metadata": {
        "id": "FwokcupiTo5M"
      },
      "outputs": [],
      "source": [
        "person2=Person(\"Shreyas\",\"Nair\")"
      ]
    },
    {
      "cell_type": "code",
      "execution_count": null,
      "metadata": {
        "id": "L5UyDu3JTo5M",
        "outputId": "7353fa35-9e01-4893-dc18-b3f29ff39647"
      },
      "outputs": [
        {
          "data": {
            "text/plain": [
              "'Shreyas'"
            ]
          },
          "execution_count": 22,
          "metadata": {},
          "output_type": "execute_result"
        }
      ],
      "source": [
        "person2.name"
      ]
    },
    {
      "cell_type": "code",
      "execution_count": null,
      "metadata": {
        "id": "-wVCyjvyTo5M",
        "outputId": "e6570a9c-01ac-467e-fe03-c9e1e11f6bd9"
      },
      "outputs": [
        {
          "data": {
            "text/plain": [
              "<__main__.Person at 0x18899974760>"
            ]
          },
          "execution_count": 25,
          "metadata": {},
          "output_type": "execute_result"
        }
      ],
      "source": [
        "person2"
      ]
    },
    {
      "cell_type": "code",
      "execution_count": null,
      "metadata": {
        "id": "bGBTLGNGTo5N",
        "outputId": "de3fa1cf-1451-4f16-8469-d34a3dae1a6c"
      },
      "outputs": [
        {
          "data": {
            "text/plain": [
              "'Nair'"
            ]
          },
          "execution_count": 24,
          "metadata": {},
          "output_type": "execute_result"
        }
      ],
      "source": [
        "person2.last_name"
      ]
    },
    {
      "cell_type": "code",
      "execution_count": null,
      "metadata": {
        "id": "lidqcYwtTo5N"
      },
      "outputs": [],
      "source": [
        "class Person:\n",
        "    def __init__(self,name1,last_name1):\n",
        "        self.name=name1\n",
        "        self.last_name=last_name1\n",
        "    def __str__(self):\n",
        "        return f\"The name is {self.name} and last name is {self.last_name}\"\n"
      ]
    },
    {
      "cell_type": "code",
      "execution_count": null,
      "metadata": {
        "id": "eFeFomNdTo5N",
        "outputId": "088647ac-74e8-4cdd-bbe5-f09288c502da"
      },
      "outputs": [
        {
          "name": "stdout",
          "output_type": "stream",
          "text": [
            "The name is Krish and last name is NAik\n"
          ]
        }
      ],
      "source": [
        "person1=Person(\"Krish\",\"NAik\")\n",
        "print(person1)"
      ]
    },
    {
      "cell_type": "code",
      "execution_count": null,
      "metadata": {
        "id": "O_qe7vUKTo5N",
        "outputId": "b171f85b-51bf-430f-c807-9d481c592d04"
      },
      "outputs": [
        {
          "data": {
            "text/plain": [
              "'Hello how are you Krish'"
            ]
          },
          "execution_count": 33,
          "metadata": {},
          "output_type": "execute_result"
        }
      ],
      "source": [
        "\"Hello how are you {}\".format(\"Krish\")"
      ]
    },
    {
      "cell_type": "code",
      "execution_count": null,
      "metadata": {
        "id": "cCy8uvCYTo5N"
      },
      "outputs": [],
      "source": [
        "## Bank account class and add infor like account number,account hoilde rname and balance"
      ]
    },
    {
      "cell_type": "code",
      "execution_count": null,
      "metadata": {
        "id": "jx5ZnJsMTo5N"
      },
      "outputs": [],
      "source": [
        "class BankAccount:\n",
        "    def __init__(self,account_number,account_holder,balance=0):\n",
        "        self.account_number=account_number\n",
        "        self.account_holder=account_holder\n",
        "        self.balance=balance\n",
        "\n",
        "    def deposit(self,deposit):\n",
        "        self.balance=self.balance + deposit\n",
        "\n",
        "    def withdrawl(self,withdrawl_amt):\n",
        "        if withdrawl_amt <= self.balance:\n",
        "            self.balance=self.balance - withdrawl_amt\n",
        "        else:\n",
        "            print(\"The Balance is less\")\n",
        "\n",
        "\n"
      ]
    },
    {
      "cell_type": "code",
      "execution_count": null,
      "metadata": {
        "id": "OFaW3X2nTo5O"
      },
      "outputs": [],
      "source": [
        "account1=BankAccount(\"1234\",\"Krish Naik\",0)"
      ]
    },
    {
      "cell_type": "code",
      "execution_count": null,
      "metadata": {
        "id": "hw4cySE1To5O",
        "outputId": "58b47510-4af9-4a0d-dfda-b35fdf925e66"
      },
      "outputs": [
        {
          "data": {
            "text/plain": [
              "['__class__',\n",
              " '__delattr__',\n",
              " '__dict__',\n",
              " '__dir__',\n",
              " '__doc__',\n",
              " '__eq__',\n",
              " '__format__',\n",
              " '__ge__',\n",
              " '__getattribute__',\n",
              " '__gt__',\n",
              " '__hash__',\n",
              " '__init__',\n",
              " '__init_subclass__',\n",
              " '__le__',\n",
              " '__lt__',\n",
              " '__module__',\n",
              " '__ne__',\n",
              " '__new__',\n",
              " '__reduce__',\n",
              " '__reduce_ex__',\n",
              " '__repr__',\n",
              " '__setattr__',\n",
              " '__sizeof__',\n",
              " '__str__',\n",
              " '__subclasshook__',\n",
              " '__weakref__',\n",
              " 'account_holder',\n",
              " 'account_number',\n",
              " 'balance',\n",
              " 'deposit',\n",
              " 'withdrawl']"
            ]
          },
          "execution_count": 55,
          "metadata": {},
          "output_type": "execute_result"
        }
      ],
      "source": [
        "dir(account1)"
      ]
    },
    {
      "cell_type": "code",
      "execution_count": null,
      "metadata": {
        "id": "DJ6oqNcjTo5O",
        "outputId": "1ba3da81-be1c-4132-cf11-39dc72506b53"
      },
      "outputs": [
        {
          "name": "stdout",
          "output_type": "stream",
          "text": [
            "0\n"
          ]
        }
      ],
      "source": [
        "print(account1.balance)"
      ]
    },
    {
      "cell_type": "code",
      "execution_count": null,
      "metadata": {
        "id": "2IILWEwrTo5O"
      },
      "outputs": [],
      "source": [
        "account1.deposit(100)"
      ]
    },
    {
      "cell_type": "code",
      "execution_count": null,
      "metadata": {
        "id": "CCJ4O1TvTo5O",
        "outputId": "544634f1-8697-4855-8768-311e9c323d86"
      },
      "outputs": [
        {
          "name": "stdout",
          "output_type": "stream",
          "text": [
            "100\n"
          ]
        }
      ],
      "source": [
        "print(account1.balance)"
      ]
    },
    {
      "cell_type": "code",
      "execution_count": null,
      "metadata": {
        "id": "dEZCPMrWTo5O"
      },
      "outputs": [],
      "source": [
        "account1.withdrawl(50)"
      ]
    },
    {
      "cell_type": "code",
      "execution_count": null,
      "metadata": {
        "id": "Lcv7bWalTo5O",
        "outputId": "d2410099-23c0-4cc4-d7c5-4e0b789f47f8"
      },
      "outputs": [
        {
          "name": "stdout",
          "output_type": "stream",
          "text": [
            "50\n"
          ]
        }
      ],
      "source": [
        "print(account1.balance)"
      ]
    },
    {
      "cell_type": "code",
      "execution_count": null,
      "metadata": {
        "id": "Zos0yOs8To5O"
      },
      "outputs": [],
      "source": [
        "class BankAccount:\n",
        "    def __init__(self,account_number, account_holder_name, balance=0):\n",
        "        self.account_number=account_number\n",
        "        self.account_holder_name=account_holder_name\n",
        "        self.balance=balance\n",
        "    def deposit(self,amount):\n",
        "        self.balance+=amount\n"
      ]
    },
    {
      "cell_type": "code",
      "execution_count": null,
      "metadata": {
        "id": "YjaGSiyoTo5O"
      },
      "outputs": [],
      "source": [
        "class BankAccount :\n",
        "    def __init__(self,account_number,account_holder_name,balance = 0):\n",
        "        self.account_number = account_number\n",
        "        self.account_holder_name = account_holder_name\n",
        "        self.balance = balance\n",
        "\n",
        "\n",
        "    def deposit (self,amount):\n",
        "        self.balance += amount\n",
        "\n",
        "\n",
        "    def withdrawl(self,withdrawl):\n",
        "        self.balance = self.balance - withdrawl\n",
        "\n",
        "\n",
        "\n"
      ]
    },
    {
      "cell_type": "code",
      "execution_count": null,
      "metadata": {
        "id": "AfeDi5xITo5O",
        "outputId": "525fa012-12d7-420f-88c7-4de5decf14e4"
      },
      "outputs": [
        {
          "name": "stdout",
          "output_type": "stream",
          "text": [
            "0\n"
          ]
        }
      ],
      "source": [
        "account1 = BankAccount(\"1234\",\"Shruti Joshi\",0)\n",
        "print(account1.balance)"
      ]
    },
    {
      "cell_type": "code",
      "execution_count": null,
      "metadata": {
        "id": "1bcox-K8To5O"
      },
      "outputs": [],
      "source": [
        "# Bank Account Class\n",
        "class Bank_account:\n",
        "    def __init__(self, account_holdername, balance, account_number, account_type):\n",
        "        self.account_holdername=account_holdername\n",
        "        self.account_number=account_number\n",
        "        self.balance=balance\n",
        "        self.account_type=account_type\n",
        "\n",
        "    def deposit(self, amount):\n",
        "        self.balance += amount\n",
        "        print(f\"your new balance is {self.balance}\" )\n",
        "\n",
        "    def widrawal(self, amount):\n",
        "        if amount <= self.balance:\n",
        "            self.balance -= amount\n",
        "            print(f\"Your updated balance is {self.balance}\")\n",
        "        else:\n",
        "            print(\"You do not have sufficient funds\")\n",
        "\n",
        "\n"
      ]
    },
    {
      "cell_type": "code",
      "execution_count": null,
      "metadata": {
        "id": "DrsDYWl1To5P"
      },
      "outputs": [],
      "source": [
        "## Class represting a to do list\n",
        "\n",
        "class TodoList:\n",
        "    ## constructor\n",
        "    def __init__(self,owner):\n",
        "        self.owner=owner\n",
        "        self.tasks=[]\n",
        "\n",
        "    def add_task(self,task):\n",
        "        self.tasks.append(task)\n",
        "\n",
        "    def complete_task(self,task):\n",
        "        if task in self.tasks:\n",
        "            self.tasks.remove(task)\n",
        "            print(f\"Task '{task}' completed\")\n",
        "        else:\n",
        "            print(\"The task is not found\")\n",
        "\n",
        "    def display_tasks(self):\n",
        "        print(f\"The todo task of {self.owner}:\")\n",
        "        for task in self.tasks:\n",
        "            print(task)\n",
        "\n"
      ]
    },
    {
      "cell_type": "code",
      "execution_count": null,
      "metadata": {
        "id": "s3wMngENTo5P"
      },
      "outputs": [],
      "source": [
        "krish=TodoList(\"Krissh\")"
      ]
    },
    {
      "cell_type": "code",
      "execution_count": null,
      "metadata": {
        "id": "V5f1cVcHTo5S",
        "outputId": "8787ba53-dce5-4a15-82f7-6420aeafe3a5"
      },
      "outputs": [
        {
          "data": {
            "text/plain": [
              "[]"
            ]
          },
          "execution_count": 72,
          "metadata": {},
          "output_type": "execute_result"
        }
      ],
      "source": [
        "krish.tasks"
      ]
    },
    {
      "cell_type": "code",
      "execution_count": null,
      "metadata": {
        "id": "CW116TzETo5T"
      },
      "outputs": [],
      "source": [
        "krish.add_task(\"I have to teach at 9am with real wworld examples\")"
      ]
    },
    {
      "cell_type": "code",
      "execution_count": null,
      "metadata": {
        "id": "DPI9H3TFTo5T",
        "outputId": "3c4c746e-de4c-4c2f-e31f-806c264de56d"
      },
      "outputs": [
        {
          "name": "stdout",
          "output_type": "stream",
          "text": [
            "The todo task of Krissh:\n",
            "I have to teach at 9am with real wworld examples\n"
          ]
        }
      ],
      "source": [
        "krish.display_tasks()"
      ]
    },
    {
      "cell_type": "code",
      "execution_count": null,
      "metadata": {
        "id": "CQ6PJEVYTo5T"
      },
      "outputs": [],
      "source": [
        "krish.add_task(\"12pm need to have lunch\")"
      ]
    },
    {
      "cell_type": "code",
      "execution_count": null,
      "metadata": {
        "id": "ZGICWrRtTo5T",
        "outputId": "aeefd03a-6c95-4d07-d7a6-614c76a7385f"
      },
      "outputs": [
        {
          "name": "stdout",
          "output_type": "stream",
          "text": [
            "The todo task of Krissh:\n",
            "I have to teach at 9am with real wworld examples\n",
            "12pm need to have lunch\n"
          ]
        }
      ],
      "source": [
        "krish.display_tasks()"
      ]
    },
    {
      "cell_type": "code",
      "execution_count": null,
      "metadata": {
        "id": "-e-CiTu1To5T",
        "outputId": "3b2d660e-f758-4198-803f-bc9f27e0c8fd"
      },
      "outputs": [
        {
          "name": "stdout",
          "output_type": "stream",
          "text": [
            "Task '12pm need to have lunch' completed\n"
          ]
        }
      ],
      "source": [
        "krish.complete_task(\"12pm need to have lunch\")"
      ]
    },
    {
      "cell_type": "code",
      "execution_count": null,
      "metadata": {
        "id": "rulh6hOHTo5T",
        "outputId": "abb1c425-62e7-4212-9d7b-25e000dafc24"
      },
      "outputs": [
        {
          "name": "stdout",
          "output_type": "stream",
          "text": [
            "The todo task of Krissh:\n",
            "I have to teach at 9am with real wworld examples\n"
          ]
        }
      ],
      "source": [
        "krish.display_tasks()"
      ]
    },
    {
      "cell_type": "code",
      "execution_count": null,
      "metadata": {
        "id": "VwH2x2_8To5T"
      },
      "outputs": [],
      "source": [
        "# To-Do List\n",
        "\n",
        "class ToDoList:\n",
        "    # constructor\n",
        "    def __init__(self, owner):\n",
        "        self.owner = owner\n",
        "        self.tasks=[]\n",
        "    def add_task(self,task):\n",
        "        self.tasks.append(task)\n",
        "    def complete_task(self,task):\n",
        "        if task in self.tasks:\n",
        "            self.tasks.remove(task)\n",
        "            print(f\"Task '{task}' Completed\")\n",
        "        else:\n",
        "            print(f\"The task '{task}' not found\")\n",
        "    def display_task(self):\n",
        "        print(f\" The ToDo tasks of {self.owner}:\")\n",
        "        for task in self.tasks:\n",
        "            print(task)\n"
      ]
    },
    {
      "cell_type": "code",
      "execution_count": null,
      "metadata": {
        "id": "Igm9CK_KTo5T"
      },
      "outputs": [],
      "source": [
        "class BankAccount:\n",
        "    def __init__(self,account_number1,account_holder1,balance1=0):\n",
        "        self.account_number=account_number1\n",
        "        self.account_holder=account_holder1\n",
        "        self.balance=balance1\n",
        "\n",
        "    def deposit(self,amount):\n",
        "        self.balance+=amount\n",
        "\n",
        "    def withdraw(self,amount):\n",
        "        if amount<=self.balance:\n",
        "            self.balance-=amount\n",
        "        else:\n",
        "            print(\"Insufficient funds\")"
      ]
    },
    {
      "cell_type": "code",
      "execution_count": null,
      "metadata": {
        "id": "UvB4soLKTo5T"
      },
      "outputs": [],
      "source": [
        "person1=BankAccount(1234,\"Krish Naik\")"
      ]
    },
    {
      "cell_type": "code",
      "execution_count": null,
      "metadata": {
        "id": "BIJqw1xfTo5T",
        "outputId": "dac9e4c0-ac77-466a-c7b4-e7e87a594c30"
      },
      "outputs": [
        {
          "data": {
            "text/plain": [
              "0"
            ]
          },
          "execution_count": 109,
          "metadata": {},
          "output_type": "execute_result"
        }
      ],
      "source": [
        "person1.balance"
      ]
    },
    {
      "cell_type": "code",
      "execution_count": null,
      "metadata": {
        "id": "qtsQHFAJTo5U"
      },
      "outputs": [],
      "source": [
        "person1.deposit(100)"
      ]
    },
    {
      "cell_type": "code",
      "execution_count": null,
      "metadata": {
        "id": "kqcdULRZTo5U"
      },
      "outputs": [],
      "source": [
        "person1.withdraw(90)"
      ]
    },
    {
      "cell_type": "code",
      "execution_count": null,
      "metadata": {
        "id": "5OiY1OuXTo5U",
        "outputId": "c18679d9-e6d1-4db2-a356-1326bd54c8d6"
      },
      "outputs": [
        {
          "data": {
            "text/plain": [
              "10"
            ]
          },
          "execution_count": 114,
          "metadata": {},
          "output_type": "execute_result"
        }
      ],
      "source": [
        "person1.balance"
      ]
    },
    {
      "cell_type": "code",
      "execution_count": null,
      "metadata": {
        "id": "nt8HbdtHTo5U"
      },
      "outputs": [],
      "source": [
        "class Car:\n",
        "    def __init__(self,brand,model,color):\n",
        "        self.brand=brand\n",
        "        self.model=model\n",
        "        self.color=color\n",
        "    def start_engine(self):\n",
        "        print(f\"The {self.color} {self.brand} {self.model} is starting\")\n",
        "\n",
        "    def stop_enginer(self):\n",
        "        print(f\"The {self.color} {self.brand} {self.model} is stoppinf\")\n"
      ]
    },
    {
      "cell_type": "code",
      "execution_count": null,
      "metadata": {
        "id": "U9jlg6WqTo5U"
      },
      "outputs": [],
      "source": [
        "car1=Car(\"BMW\",\"EV\",\"Red\")"
      ]
    },
    {
      "cell_type": "code",
      "execution_count": null,
      "metadata": {
        "id": "ALF9rIveTo5U",
        "outputId": "79813c4a-dfcd-49d2-8f57-03c78ec8ab92"
      },
      "outputs": [
        {
          "data": {
            "text/plain": [
              "'BMW'"
            ]
          },
          "execution_count": 117,
          "metadata": {},
          "output_type": "execute_result"
        }
      ],
      "source": [
        "car1.brand"
      ]
    },
    {
      "cell_type": "code",
      "execution_count": null,
      "metadata": {
        "id": "dZan9DWdTo5U"
      },
      "outputs": [],
      "source": [
        "class Mobilephone:\n",
        "    def __init__(self,brand,model,processor,price):\n",
        "        self.brand=brand\n",
        "        self.model=model\n",
        "        self.processor=processor\n",
        "        self.price=price\n",
        "\n",
        "    def make_calls(self,number):\n",
        "        print(f\"calling {number} with {self.brand} and {self.model}\")\n",
        "\n",
        "    def send_messages(self,number,message):\n",
        "        print(f\"sending message to {number} : {message}\")\n",
        "\n",
        "    def end_call(self,number):\n",
        "        print(f\"Call is disconnected with {number}\")\n",
        "\n",
        "\n"
      ]
    },
    {
      "cell_type": "code",
      "execution_count": null,
      "metadata": {
        "id": "QLdRILRnTo5V"
      },
      "outputs": [],
      "source": [
        "samsung=Mobilephone(\"Samsung\",\"Note 3\",\"8 gen 2\",125000)"
      ]
    },
    {
      "cell_type": "code",
      "execution_count": null,
      "metadata": {
        "id": "950Y3hvtTo5V",
        "outputId": "d053634c-c06d-4082-cd08-89b9f7a3bee3"
      },
      "outputs": [
        {
          "name": "stdout",
          "output_type": "stream",
          "text": [
            "calling 9894737282 with Samsung and Note 3\n"
          ]
        }
      ],
      "source": [
        "samsung.make_calls(9894737282)"
      ]
    },
    {
      "cell_type": "code",
      "execution_count": null,
      "metadata": {
        "id": "gzBQL05_To5V"
      },
      "outputs": [],
      "source": [
        "class MobilePhone:\n",
        "\n",
        "    def __init__(self,brand,model,processor,price):\n",
        "        self.brand = brand\n",
        "        self.model = model\n",
        "        self.processor = processor\n",
        "        self.price = price\n",
        "\n",
        "    def make_calls(self,number):\n",
        "        print(f\"Calling the number {number}\")\n",
        "\n",
        "    def play_games(self):\n",
        "        print(\"Gaming begins\")\n",
        "\n",
        "    def send_messages(self,number):\n",
        "        print(f\"Sending message to {number}\")\n"
      ]
    },
    {
      "cell_type": "code",
      "execution_count": null,
      "metadata": {
        "id": "SJ07M1kUTo5V",
        "outputId": "2d475836-0a3c-4633-a70d-9ec06d740182"
      },
      "outputs": [
        {
          "data": {
            "text/plain": [
              "<__main__.MobilePhone at 0x1889b9df5b0>"
            ]
          },
          "execution_count": 130,
          "metadata": {},
          "output_type": "execute_result"
        }
      ],
      "source": [
        "MobilePhone(\"Samsung\",\"Note 3\",\"8 gen 2\",125000)"
      ]
    },
    {
      "cell_type": "code",
      "execution_count": null,
      "metadata": {
        "id": "zjLPloZKTo5V"
      },
      "outputs": [],
      "source": [
        "class Laptop :\n",
        "    def __init__(self,model,brand):\n",
        "        self.model = model\n",
        "        self.brand = brand\n",
        "\n",
        "    def power_on(self) :\n",
        "        print(f\"This {self.brand} {self.model} is now switched on\")\n",
        "\n",
        "    def power_off(self) :\n",
        "        print(f\"This {self.brand} {self.model} is now switched off\")\n",
        "\n"
      ]
    },
    {
      "cell_type": "code",
      "execution_count": null,
      "metadata": {
        "id": "s1voUMtMTo5V",
        "outputId": "5191ff18-594b-443f-b8c3-8ce2ff4cb15e"
      },
      "outputs": [
        {
          "data": {
            "text/plain": [
              "['__class__',\n",
              " '__delattr__',\n",
              " '__dict__',\n",
              " '__dir__',\n",
              " '__doc__',\n",
              " '__eq__',\n",
              " '__format__',\n",
              " '__ge__',\n",
              " '__getattribute__',\n",
              " '__gt__',\n",
              " '__hash__',\n",
              " '__init__',\n",
              " '__init_subclass__',\n",
              " '__le__',\n",
              " '__lt__',\n",
              " '__module__',\n",
              " '__ne__',\n",
              " '__new__',\n",
              " '__reduce__',\n",
              " '__reduce_ex__',\n",
              " '__repr__',\n",
              " '__setattr__',\n",
              " '__sizeof__',\n",
              " '__str__',\n",
              " '__subclasshook__',\n",
              " '__weakref__',\n",
              " 'brand',\n",
              " 'end_call',\n",
              " 'make_calls',\n",
              " 'model',\n",
              " 'price',\n",
              " 'processor',\n",
              " 'send_messages']"
            ]
          },
          "execution_count": 133,
          "metadata": {},
          "output_type": "execute_result"
        }
      ],
      "source": [
        "dir(samsung)"
      ]
    },
    {
      "cell_type": "code",
      "execution_count": null,
      "metadata": {
        "id": "iyIsosgDTo5V"
      },
      "outputs": [],
      "source": [
        "## VLC media player\n",
        "## Camera\n",
        "## Games\n",
        "## Dishwasher\n",
        "## Washing machine"
      ]
    },
    {
      "cell_type": "code",
      "execution_count": null,
      "metadata": {
        "id": "sOx_zx9pTo5V"
      },
      "outputs": [],
      "source": [
        "class ToDo:\n",
        "    def __init__(self,name):\n",
        "        self.name=name\n",
        "        self.list_dict=[]\n",
        "    def add_task(self,task,time):\n",
        "        TT_dic={\"task\":task,\"time\":time}\n",
        "        self.list_dict.append(TT_dic)\n",
        "    def remove_task(self,task):\n",
        "        for i in range(len(self.list_dict)):\n",
        "            print(i)\n",
        "            if task == (self.list_dict[i][\"task\"]):\n",
        "                print(self.list_dict)\n",
        "                self.list_dict.pop(i)\n",
        "\n",
        "\n",
        "\n",
        "\n"
      ]
    },
    {
      "cell_type": "code",
      "execution_count": null,
      "metadata": {
        "id": "yI1UBlxFTo5V"
      },
      "outputs": [],
      "source": [
        "lst=['A','B']"
      ]
    },
    {
      "cell_type": "code",
      "execution_count": null,
      "metadata": {
        "id": "4rWw7IufTo5V"
      },
      "outputs": [],
      "source": [
        "lst.pop()"
      ]
    },
    {
      "cell_type": "code",
      "execution_count": null,
      "metadata": {
        "id": "Gv0zCTriTo5W"
      },
      "outputs": [],
      "source": [
        "todo=ToDo(\"Krish\")\n"
      ]
    },
    {
      "cell_type": "code",
      "execution_count": null,
      "metadata": {
        "id": "BhEZGPUOTo5W"
      },
      "outputs": [],
      "source": [
        "todo.add_task('A','9 am')"
      ]
    },
    {
      "cell_type": "code",
      "execution_count": null,
      "metadata": {
        "id": "W3qc5_F_To5W",
        "outputId": "3bc29a18-e70f-4b26-a028-4129bdb1dacb"
      },
      "outputs": [
        {
          "data": {
            "text/plain": [
              "[{'task': 'A', 'time': '9 am'}]"
            ]
          },
          "execution_count": 148,
          "metadata": {},
          "output_type": "execute_result"
        }
      ],
      "source": [
        "todo.list_dict"
      ]
    },
    {
      "cell_type": "code",
      "execution_count": null,
      "metadata": {
        "id": "yJ1k_gISTo5W",
        "outputId": "bc81ccd1-eafb-4c10-b8eb-59640904b232"
      },
      "outputs": [
        {
          "name": "stdout",
          "output_type": "stream",
          "text": [
            "{'task': 'A', 'time': '9 am'}\n"
          ]
        }
      ],
      "source": [
        "for i in todo.list_dict:\n",
        "    print(i)\n",
        "\n",
        "    if 'A'=="
      ]
    },
    {
      "cell_type": "code",
      "execution_count": null,
      "metadata": {
        "id": "62B78hOoTo5W",
        "outputId": "4ec2c149-946e-4ba4-b5ee-09a0f7a36307"
      },
      "outputs": [
        {
          "name": "stdout",
          "output_type": "stream",
          "text": [
            "0\n",
            "[{'task': 'A', 'time': '9 am'}]\n"
          ]
        },
        {
          "ename": "ValueError",
          "evalue": "list.remove(x): x not in list",
          "output_type": "error",
          "traceback": [
            "\u001b[1;31m---------------------------------------------------------------------------\u001b[0m",
            "\u001b[1;31mValueError\u001b[0m                                Traceback (most recent call last)",
            "\u001b[1;32m<ipython-input-149-bc23445fd3b8>\u001b[0m in \u001b[0;36m<module>\u001b[1;34m\u001b[0m\n\u001b[1;32m----> 1\u001b[1;33m \u001b[0mtodo\u001b[0m\u001b[1;33m.\u001b[0m\u001b[0mremove_task\u001b[0m\u001b[1;33m(\u001b[0m\u001b[1;34m'A'\u001b[0m\u001b[1;33m)\u001b[0m\u001b[1;33m\u001b[0m\u001b[1;33m\u001b[0m\u001b[0m\n\u001b[0m",
            "\u001b[1;32m<ipython-input-145-ec5c5fb37521>\u001b[0m in \u001b[0;36mremove_task\u001b[1;34m(self, task)\u001b[0m\n\u001b[0;32m     11\u001b[0m             \u001b[1;32mif\u001b[0m \u001b[0mtask\u001b[0m \u001b[1;33m==\u001b[0m \u001b[1;33m(\u001b[0m\u001b[0mself\u001b[0m\u001b[1;33m.\u001b[0m\u001b[0mlist_dict\u001b[0m\u001b[1;33m[\u001b[0m\u001b[0mi\u001b[0m\u001b[1;33m]\u001b[0m\u001b[1;33m[\u001b[0m\u001b[1;34m\"task\"\u001b[0m\u001b[1;33m]\u001b[0m\u001b[1;33m)\u001b[0m\u001b[1;33m:\u001b[0m\u001b[1;33m\u001b[0m\u001b[1;33m\u001b[0m\u001b[0m\n\u001b[0;32m     12\u001b[0m                 \u001b[0mprint\u001b[0m\u001b[1;33m(\u001b[0m\u001b[0mself\u001b[0m\u001b[1;33m.\u001b[0m\u001b[0mlist_dict\u001b[0m\u001b[1;33m)\u001b[0m\u001b[1;33m\u001b[0m\u001b[1;33m\u001b[0m\u001b[0m\n\u001b[1;32m---> 13\u001b[1;33m                 \u001b[0mself\u001b[0m\u001b[1;33m.\u001b[0m\u001b[0mlist_dict\u001b[0m\u001b[1;33m.\u001b[0m\u001b[0mremove\u001b[0m\u001b[1;33m(\u001b[0m\u001b[0mi\u001b[0m\u001b[1;33m)\u001b[0m\u001b[1;33m\u001b[0m\u001b[1;33m\u001b[0m\u001b[0m\n\u001b[0m\u001b[0;32m     14\u001b[0m \u001b[1;33m\u001b[0m\u001b[0m\n\u001b[0;32m     15\u001b[0m \u001b[1;33m\u001b[0m\u001b[0m\n",
            "\u001b[1;31mValueError\u001b[0m: list.remove(x): x not in list"
          ]
        }
      ],
      "source": [
        "todo.remove_task('A')"
      ]
    },
    {
      "cell_type": "code",
      "execution_count": null,
      "metadata": {
        "id": "ivDbQXu8To5W"
      },
      "outputs": [],
      "source": [
        "class Mobile_phone:\n",
        "    def __init__(self, brand, model, processor, price):\n",
        "\n",
        "        self.brand = brand\n",
        "        self.model = model\n",
        "        self.processor = processor\n",
        "        self.price = price\n",
        "\n",
        "    def make_calls(self, number):\n",
        "        print(f'calling {number} with {self.brand} having {self.model} with {self.processor} of {self.price} is making call')"
      ]
    },
    {
      "cell_type": "code",
      "execution_count": null,
      "metadata": {
        "id": "YoY03hHyTo5W"
      },
      "outputs": [],
      "source": [
        "class Mobile_phone:\n",
        "  def __init__(self, brand, model, processor, price):\n",
        "    self.brand = brand\n",
        "    self.model = model\n",
        "    self.processor = processor\n",
        "    self.price = price\n",
        "\n",
        "    def make_calls(self, number):\n",
        "      print(f'calling {number} with {self.brand} having {self.model} with {self.processor} of {self.price} is making call')\n",
        "\n",
        "    def send_msgs(self, number, message):\n",
        "      print(f'sending {message} to {number} with {self.brand} having {self.model} with {self.processor} of {self.price} is making call')\n",
        "\n",
        "    def end_calls(self,number):\n",
        "      print(f'calling {number} with {self.brand} having {self.model} with {self.processor} of {self.price} is ending call')\n"
      ]
    },
    {
      "cell_type": "code",
      "execution_count": null,
      "metadata": {
        "id": "sIeWZgCYTo5W"
      },
      "outputs": [],
      "source": [
        "mobile = Mobile_phone('Apple','i14','macos', 12000)\n"
      ]
    },
    {
      "cell_type": "code",
      "execution_count": null,
      "metadata": {
        "id": "-mfr56mTTo5W",
        "outputId": "da4d8cd5-4a55-407d-bf36-f102e5f5837f"
      },
      "outputs": [
        {
          "data": {
            "text/plain": [
              "'Apple'"
            ]
          },
          "execution_count": 158,
          "metadata": {},
          "output_type": "execute_result"
        }
      ],
      "source": [
        "mobile.brand"
      ]
    },
    {
      "cell_type": "code",
      "execution_count": null,
      "metadata": {
        "id": "I6XthvGBTo5X",
        "outputId": "da9dc6ac-85c5-4fa6-f296-ac373c47932b"
      },
      "outputs": [
        {
          "name": "stdout",
          "output_type": "stream",
          "text": [
            "calling 9876543210 with Apple having i14 with macos of 12000 is making call\n"
          ]
        }
      ],
      "source": [
        "mobile.make_calls(9876543210)\n"
      ]
    },
    {
      "cell_type": "code",
      "execution_count": null,
      "metadata": {
        "id": "WsK9YfHqTo5X"
      },
      "outputs": [],
      "source": [
        "class BankAccount:\n",
        "    def __init__(self,account_number,account_holder,balance=0):\n",
        "        self.account_number=account_number\n",
        "        self.account_holder=account_holder\n",
        "        self.balance=balance\n",
        "\n",
        "    def deposit(self,amount):\n",
        "        self.balance+=amount\n"
      ]
    },
    {
      "cell_type": "code",
      "execution_count": null,
      "metadata": {
        "id": "udi-xkkYTo5X"
      },
      "outputs": [],
      "source": [
        "person1=BankAccount('123','Krish')"
      ]
    },
    {
      "cell_type": "code",
      "execution_count": null,
      "metadata": {
        "id": "z2t4BjmDTo5X"
      },
      "outputs": [],
      "source": [
        "person1.deposit(100)"
      ]
    },
    {
      "cell_type": "code",
      "execution_count": null,
      "metadata": {
        "id": "nXQ707E1To5X"
      },
      "outputs": [],
      "source": [
        "class MobilePhone:\n",
        "    def __init__(self,brand,model,processor,price):\n",
        "        self.brand=brand\n",
        "        self.model=model\n",
        "        self.processor=processor\n",
        "        self.price=price\n",
        "\n",
        "    def make_calls(self,number):\n",
        "        print(f\"Calling {number} with {self.brand} and {self.model}\")\n",
        "\n",
        "    def sending_messages(self,number,message):\n",
        "        print(f\"Sending message to {number} : {message}\")\n",
        "\n",
        "    def end_call(self,number):\n",
        "        print(f\"Call is disconnected with {number}\")\n"
      ]
    },
    {
      "cell_type": "code",
      "execution_count": null,
      "metadata": {
        "id": "6BOwM84hTo5X"
      },
      "outputs": [],
      "source": [
        "mobile = MobilePhone('Apple','i14','macos', 12000)"
      ]
    },
    {
      "cell_type": "code",
      "execution_count": null,
      "metadata": {
        "id": "Il3HmqJdTo5X",
        "outputId": "70b98760-cc9f-4177-c18d-ab956f771963"
      },
      "outputs": [
        {
          "name": "stdout",
          "output_type": "stream",
          "text": [
            "Calling 93783643 with Apple and i14\n"
          ]
        }
      ],
      "source": [
        "mobile.make_calls(93783643)"
      ]
    },
    {
      "cell_type": "code",
      "execution_count": null,
      "metadata": {
        "id": "XbvLcZ8CTo5X"
      },
      "outputs": [],
      "source": [
        "# To-Do List\n",
        "\n",
        "class ToDoList:\n",
        "    # constructor\n",
        "    def __init__(self, owner):\n",
        "        self.owner = owner\n",
        "        self.tasks=[]\n",
        "    def add_task(self,task):\n",
        "        self.tasks.append(task)\n",
        "    def complete_task(self,task):\n",
        "        if task in self.tasks:\n",
        "            self.tasks.remove(task)\n",
        "            print(f\"Task '{task}' Completed\")\n",
        "        else:\n",
        "            print(f\"The task '{task}' not found\")\n",
        "    def display_task(self):\n",
        "        print(f\" The ToDo tasks of {self.owner}:\")\n",
        "        for task in self.tasks:\n",
        "            print(task)\n"
      ]
    },
    {
      "cell_type": "code",
      "execution_count": null,
      "metadata": {
        "id": "wa5lnkvgTo5X"
      },
      "outputs": [],
      "source": [
        "todo=TodoList('Krish')"
      ]
    },
    {
      "cell_type": "code",
      "execution_count": null,
      "metadata": {
        "id": "EBGLjSWrTo5X"
      },
      "outputs": [],
      "source": [
        "todo.add_task('A')"
      ]
    },
    {
      "cell_type": "code",
      "execution_count": null,
      "metadata": {
        "id": "4DZ9nr5wTo5X",
        "outputId": "24e1f2cf-fc9f-480c-a9c2-0af783919f0d"
      },
      "outputs": [
        {
          "name": "stdout",
          "output_type": "stream",
          "text": [
            "The todo task of Krish:\n",
            "A\n"
          ]
        }
      ],
      "source": [
        "todo.display_tasks()"
      ]
    },
    {
      "cell_type": "code",
      "execution_count": null,
      "metadata": {
        "id": "JlwTn39UTo5X"
      },
      "outputs": [],
      "source": [
        "class Laptop:\n",
        "    def __init__(self,brand,price):\n",
        "        self.brand=brand\n",
        "        self.price=price\n",
        "    def power_on(self):\n",
        "        print(f\"This {self.brand} is now switched on\")\n",
        "    def power_off(self):\n",
        "        print(f\"This {self.brand} is now switched off\")\n"
      ]
    },
    {
      "cell_type": "code",
      "execution_count": null,
      "metadata": {
        "id": "_LxFe4hvTo5Y"
      },
      "outputs": [],
      "source": [
        "lap=Laptop('lenovo',35000)"
      ]
    },
    {
      "cell_type": "code",
      "execution_count": null,
      "metadata": {
        "id": "U-GvZg1cTo5Y",
        "outputId": "6cc503ed-60fa-416c-f667-7a13c7b25585"
      },
      "outputs": [
        {
          "name": "stdout",
          "output_type": "stream",
          "text": [
            "This lenovo is now switched off\n"
          ]
        }
      ],
      "source": [
        "lap.power_off()"
      ]
    },
    {
      "cell_type": "code",
      "execution_count": null,
      "metadata": {
        "id": "AtPUlBxLTo5Y"
      },
      "outputs": [],
      "source": [
        "class BankAccount:\n",
        "    def __init__(self,account_number,account_holder,balance=0):\n",
        "        self.account_number=account_number\n",
        "        self.account_holder=account_holder\n",
        "        self.balance=balance\n",
        "    def deposit(self,amount):\n",
        "        self.balance+=amount\n",
        "    def withdrawl(self, withdrawl_amt):\n",
        "        if withdrawl_amt <= self.balance:\n",
        "            self.balance=self.balance - withdrawl_amt\n",
        "        else:\n",
        "            print(\"you have less balance\")\n"
      ]
    },
    {
      "cell_type": "code",
      "execution_count": null,
      "metadata": {
        "id": "ig-odEOnTo5Y"
      },
      "outputs": [],
      "source": [
        "account1 = BankAccount(\"1234\",\"varsha\",0)\n",
        "account1.deposit(110)\n",
        "account1.withdrawl(90)\n"
      ]
    },
    {
      "cell_type": "code",
      "execution_count": null,
      "metadata": {
        "id": "61lAVYChTo5Y",
        "outputId": "ec1db19d-3dda-4de7-a013-f9f1e8d72e3a"
      },
      "outputs": [
        {
          "data": {
            "text/plain": [
              "<__main__.BankAccount at 0x1889bf8a2b0>"
            ]
          },
          "execution_count": 189,
          "metadata": {},
          "output_type": "execute_result"
        }
      ],
      "source": [
        "account1"
      ]
    },
    {
      "cell_type": "code",
      "execution_count": null,
      "metadata": {
        "id": "TIHJUSCcTo5Y"
      },
      "outputs": [],
      "source": [
        "account1.deposit(100)"
      ]
    },
    {
      "cell_type": "code",
      "execution_count": null,
      "metadata": {
        "id": "8hzq-0QETo5Y"
      },
      "outputs": [],
      "source": [
        "account1.withdrawl(90)"
      ]
    },
    {
      "cell_type": "code",
      "execution_count": null,
      "metadata": {
        "id": "pVYjkSPHTo5Y",
        "outputId": "9f1a145c-a774-4bd7-8beb-0918da83c970"
      },
      "outputs": [
        {
          "name": "stdout",
          "output_type": "stream",
          "text": [
            "My task list:\n",
            "\n",
            "11.15-> class\n",
            "11.0-> tea break\n",
            "1.0-> Lunch\n",
            "Task Lunch\n",
            "class\n",
            "Key does not exist\n",
            "tea break\n",
            "Key does not exist\n",
            "Lunch\n"
          ]
        }
      ],
      "source": [
        "class to_dolist:\n",
        "    def __init__(self):\n",
        "        self.task_list={}\n",
        "\n",
        "    def add_task(self,task,time):\n",
        "        if task not in self.task_list.items():\n",
        "            self.task_list.update({task:time})\n",
        "        else:\n",
        "            self.task_list[key]=task\n",
        "            self.task_list[time]=time\n",
        "    def display(self):\n",
        "        for key,value in self.task_list.items():\n",
        "            print(f\"{value}-> {key}\")\n",
        "    def remove_task(self,task):\n",
        "        print(\"Task\",task)\n",
        "        for key,value in self.task_list.items():\n",
        "            print(key)\n",
        "            if(task==key):\n",
        "              self.task_list.pop(key)\n",
        "              break\n",
        "            else:\n",
        "              print(\"Key does not exist\")\n",
        "\n",
        "\n",
        "print(f\"My task list:\\n\")\n",
        "person1=to_dolist()\n",
        "\n",
        "person1.add_task(\"class\",9.00)\n",
        "person1.add_task(\"tea break\",11.00)\n",
        "person1.add_task(\"class\",11.15)\n",
        "person1.add_task(\"Lunch\",1.00)\n",
        "person1.display()\n",
        "person1.remove_task(\"Lunch\")\n"
      ]
    },
    {
      "cell_type": "code",
      "execution_count": null,
      "metadata": {
        "id": "DYZvaztdTo5Y"
      },
      "outputs": [],
      "source": [
        "class ToDoList:\n",
        "    def __init__(self,owner):\n",
        "        self.owner=owner\n",
        "        self.tasks=[]\n",
        "\n",
        "    def add_task(self,task):\n",
        "        self.tasks.append(task)\n",
        "\n",
        "    def complete_task(self,task):\n",
        "        if task in self.tasks:\n",
        "            self.tasks.remove(task)\n",
        "            print(f\"Task '{task}' completed\")\n",
        "        else:\n",
        "            print(\"The task is not found\")\n",
        "\n",
        "    def display_tasks(self):\n",
        "        print(f\"The todo task of {self.owner}:\")\n",
        "        for task in self.tasks:\n",
        "            print(task)\n"
      ]
    },
    {
      "cell_type": "code",
      "execution_count": null,
      "metadata": {
        "id": "zG7weuzfTo5Y"
      },
      "outputs": [],
      "source": [
        "Tejaswi=ToDoList(\"Tejasswi\")\n"
      ]
    },
    {
      "cell_type": "code",
      "execution_count": null,
      "metadata": {
        "id": "GqSBvG45To5Y",
        "outputId": "d80b0a30-5717-4dac-d7f9-3993e7ec1c7f"
      },
      "outputs": [
        {
          "data": {
            "text/plain": [
              "[]"
            ]
          },
          "execution_count": 198,
          "metadata": {},
          "output_type": "execute_result"
        }
      ],
      "source": [
        "Tejaswi.tasks"
      ]
    },
    {
      "cell_type": "markdown",
      "metadata": {},
      "source": [
        "## Create and Delete Object"
      ]
    },
    {
      "cell_type": "code",
      "execution_count": 8,
      "metadata": {},
      "outputs": [],
      "source": [
        "class Test:\n",
        "    def __init__(self):\n",
        "        print(\"Object Created\")\n",
        "\n",
        "    def __del__(self):\n",
        "        print(\"Object deleted\")"
      ]
    },
    {
      "cell_type": "code",
      "execution_count": 9,
      "metadata": {
        "id": "yHQ58v9GTo5Y"
      },
      "outputs": [
        {
          "name": "stdout",
          "output_type": "stream",
          "text": [
            "Object Created\n",
            "Object deleted\n"
          ]
        }
      ],
      "source": [
        "d = Test()"
      ]
    },
    {
      "cell_type": "code",
      "execution_count": 10,
      "metadata": {},
      "outputs": [],
      "source": [
        "class Demo1:\n",
        "    def __init__(self) -> None:\n",
        "        print(\"Object Created\")\n",
        "\n",
        "    def __del__(self):\n",
        "        print(\"object deleted\")"
      ]
    },
    {
      "cell_type": "code",
      "execution_count": 11,
      "metadata": {},
      "outputs": [
        {
          "name": "stdout",
          "output_type": "stream",
          "text": [
            "Object Created\n"
          ]
        }
      ],
      "source": [
        "obj1 = Demo1()"
      ]
    },
    {
      "cell_type": "code",
      "execution_count": 12,
      "metadata": {},
      "outputs": [
        {
          "name": "stdout",
          "output_type": "stream",
          "text": [
            "object deleted\n"
          ]
        }
      ],
      "source": [
        "del obj1"
      ]
    },
    {
      "cell_type": "code",
      "execution_count": null,
      "metadata": {},
      "outputs": [],
      "source": []
    }
  ],
  "metadata": {
    "colab": {
      "provenance": []
    },
    "kernelspec": {
      "display_name": "Python 3",
      "language": "python",
      "name": "python3"
    },
    "language_info": {
      "codemirror_mode": {
        "name": "ipython",
        "version": 3
      },
      "file_extension": ".py",
      "mimetype": "text/x-python",
      "name": "python",
      "nbconvert_exporter": "python",
      "pygments_lexer": "ipython3",
      "version": "3.11.3"
    }
  },
  "nbformat": 4,
  "nbformat_minor": 0
}
