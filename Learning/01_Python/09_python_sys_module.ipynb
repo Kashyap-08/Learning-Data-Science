{
 "cells": [
  {
   "cell_type": "markdown",
   "metadata": {},
   "source": [
    "### sys module:\n",
    "\n",
    "The sys module in Python provides access to some variables used or maintained by the interpreter and to functions that interact with the Python runtime environment. Here are some common use cases for the sys module:\n",
    "\n",
    "1. Accessing Command Line Arguments:\n",
    "The sys.argv list contains the command-line arguments passed to a Python script. This is useful for creating scripts that take input from the command line.\n",
    "\n",
    "2. Exiting the Program:\n",
    "The sys.exit() function is used to exit the Python interpreter. It can be useful to terminate a script if certain conditions are met.\n",
    "\n",
    "3. Getting System Information:\n",
    "The sys.platform string contains information about the operating system platform under which the Python interpreter is executing.\n",
    "\n",
    "4. Memory Management:\n",
    "The sys.getsizeof() function returns the size of an object in memory. It's useful for understanding memory usage.\n",
    "\n",
    "### os module:\n",
    "Intertaction with the operating syste, providing access to the underline interface of OS."
   ]
  },
  {
   "cell_type": "code",
   "execution_count": 2,
   "metadata": {},
   "outputs": [],
   "source": [
    "import sys"
   ]
  },
  {
   "cell_type": "code",
   "execution_count": 3,
   "metadata": {},
   "outputs": [
    {
     "data": {
      "text/plain": [
       "['d:\\\\Learning\\\\INeuron\\\\Live\\\\01_Python',\n",
       " 'c:\\\\Users\\\\HP\\\\anaconda3\\\\python311.zip',\n",
       " 'c:\\\\Users\\\\HP\\\\anaconda3\\\\DLLs',\n",
       " 'c:\\\\Users\\\\HP\\\\anaconda3\\\\Lib',\n",
       " 'c:\\\\Users\\\\HP\\\\anaconda3',\n",
       " '',\n",
       " 'c:\\\\Users\\\\HP\\\\anaconda3\\\\Lib\\\\site-packages',\n",
       " 'c:\\\\Users\\\\HP\\\\anaconda3\\\\Lib\\\\site-packages\\\\win32',\n",
       " 'c:\\\\Users\\\\HP\\\\anaconda3\\\\Lib\\\\site-packages\\\\win32\\\\lib',\n",
       " 'c:\\\\Users\\\\HP\\\\anaconda3\\\\Lib\\\\site-packages\\\\Pythonwin']"
      ]
     },
     "execution_count": 3,
     "metadata": {},
     "output_type": "execute_result"
    }
   ],
   "source": [
    "sys.path"
   ]
  },
  {
   "cell_type": "code",
   "execution_count": 4,
   "metadata": {},
   "outputs": [
    {
     "data": {
      "text/plain": [
       "'3.11.3 | packaged by Anaconda, Inc. | (main, Apr 19 2023, 23:46:34) [MSC v.1916 64 bit (AMD64)]'"
      ]
     },
     "execution_count": 4,
     "metadata": {},
     "output_type": "execute_result"
    }
   ],
   "source": [
    "sys.version"
   ]
  },
  {
   "cell_type": "code",
   "execution_count": 5,
   "metadata": {},
   "outputs": [
    {
     "data": {
      "text/plain": [
       "['c:\\\\Users\\\\HP\\\\anaconda3\\\\Lib\\\\site-packages\\\\ipykernel_launcher.py',\n",
       " '--ip=127.0.0.1',\n",
       " '--stdin=9003',\n",
       " '--control=9001',\n",
       " '--hb=9000',\n",
       " '--Session.signature_scheme=\"hmac-sha256\"',\n",
       " '--Session.key=b\"f6d61a4a-5588-4358-8d4c-3f2af9c61fbc\"',\n",
       " '--shell=9002',\n",
       " '--transport=\"tcp\"',\n",
       " '--iopub=9004',\n",
       " '--f=c:\\\\Users\\\\HP\\\\AppData\\\\Roaming\\\\jupyter\\\\runtime\\\\kernel-v2-19652E6DM5nSTPC0z.json']"
      ]
     },
     "execution_count": 5,
     "metadata": {},
     "output_type": "execute_result"
    }
   ],
   "source": [
    "# Python notebook is running on the below path\n",
    "sys.argv"
   ]
  },
  {
   "cell_type": "code",
   "execution_count": 7,
   "metadata": {},
   "outputs": [
    {
     "data": {
      "text/plain": [
       "550548"
      ]
     },
     "execution_count": 7,
     "metadata": {},
     "output_type": "execute_result"
    }
   ],
   "source": [
    "# get allocated memory in KB\n",
    "sys.getallocatedblocks()"
   ]
  },
  {
   "cell_type": "code",
   "execution_count": 11,
   "metadata": {},
   "outputs": [
    {
     "data": {
      "text/plain": [
       "'win32'"
      ]
     },
     "execution_count": 11,
     "metadata": {},
     "output_type": "execute_result"
    }
   ],
   "source": [
    "sys.platform"
   ]
  },
  {
   "cell_type": "code",
   "execution_count": 13,
   "metadata": {},
   "outputs": [
    {
     "data": {
      "text/plain": [
       "88"
      ]
     },
     "execution_count": 13,
     "metadata": {},
     "output_type": "execute_result"
    }
   ],
   "source": [
    "# get the size of an object in kb\n",
    "sys.getsizeof([1,2,3])"
   ]
  },
  {
   "cell_type": "code",
   "execution_count": 8,
   "metadata": {},
   "outputs": [
    {
     "data": {
      "text/plain": [
       "5"
      ]
     },
     "execution_count": 8,
     "metadata": {},
     "output_type": "execute_result"
    }
   ],
   "source": [
    "# we can change the way our output is displayed, \n",
    "# we can achieve it by usinng displayhook \n",
    "\n",
    "#by default output\n",
    "5"
   ]
  },
  {
   "cell_type": "code",
   "execution_count": 18,
   "metadata": {},
   "outputs": [
    {
     "name": "stdout",
     "output_type": "stream",
     "text": [
      "kash\n",
      "22\n",
      "YOu have modified displayhook\n",
      "None\n"
     ]
    }
   ],
   "source": [
    "# modifying displayhook\n",
    "def display(x):\n",
    "    print(\"YOu have modified displayhook\")\n",
    "    print(x)\n",
    "sys.displayhook = display\n",
    "\n",
    "# give a element to print\n",
    "5\n",
    "\n",
    "print('kash')\n",
    "\n",
    "print(22)"
   ]
  },
  {
   "cell_type": "code",
   "execution_count": 16,
   "metadata": {},
   "outputs": [
    {
     "data": {
      "text/plain": [
       "'kashya'"
      ]
     },
     "execution_count": 16,
     "metadata": {},
     "output_type": "execute_result"
    }
   ],
   "source": [
    "'kashya'"
   ]
  },
  {
   "cell_type": "code",
   "execution_count": null,
   "metadata": {},
   "outputs": [],
   "source": []
  }
 ],
 "metadata": {
  "kernelspec": {
   "display_name": "base",
   "language": "python",
   "name": "python3"
  },
  "language_info": {
   "codemirror_mode": {
    "name": "ipython",
    "version": 3
   },
   "file_extension": ".py",
   "mimetype": "text/x-python",
   "name": "python",
   "nbconvert_exporter": "python",
   "pygments_lexer": "ipython3",
   "version": "3.11.3"
  },
  "orig_nbformat": 4
 },
 "nbformat": 4,
 "nbformat_minor": 2
}
