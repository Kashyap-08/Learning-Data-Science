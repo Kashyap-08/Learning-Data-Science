{
  "cells": [
    {
      "cell_type": "markdown",
      "metadata": {
        "id": "xZ5doxelSzeL"
      },
      "source": [
        "# Standard Input and Output"
      ]
    },
    {
      "cell_type": "code",
      "execution_count": null,
      "metadata": {
        "id": "BZt9lEEqSzeP",
        "outputId": "c0c745c1-5fe7-4456-c497-5e075d4bbd0e"
      },
      "outputs": [
        {
          "name": "stdout",
          "output_type": "stream",
          "text": [
            "Please enter your name: Tom\n",
            "Hello, Tom\n"
          ]
        }
      ],
      "source": [
        "# Take input from user\n",
        "user_input = input(\"Please enter your name: \")\n",
        "print(\"Hello, \" + user_input)"
      ]
    },
    {
      "cell_type": "code",
      "execution_count": null,
      "metadata": {
        "id": "rvz_biihSzeR",
        "outputId": "7d03e31f-f4be-4864-cd04-b14fc2df9351"
      },
      "outputs": [
        {
          "name": "stdout",
          "output_type": "stream",
          "text": [
            "Please enter a number: 20\n",
            "You have entered:  20\n"
          ]
        }
      ],
      "source": [
        "# Take numerical input from user\n",
        "num_input = int(input(\"Please enter a number: \"))\n",
        "print(\"You have entered: \", num_input)\n"
      ]
    },
    {
      "cell_type": "code",
      "execution_count": null,
      "metadata": {
        "id": "RMgg6GjgSzeR",
        "outputId": "45cfb81d-bb4d-4cb4-c19d-174010ed84a7"
      },
      "outputs": [
        {
          "name": "stdout",
          "output_type": "stream",
          "text": [
            "Good Morning\n"
          ]
        }
      ],
      "source": [
        "# The print() function is used to output data to the standard output device (like the console).\n",
        "print(\"Good Morning\") # prints \"Good Morning\""
      ]
    },
    {
      "cell_type": "code",
      "execution_count": null,
      "metadata": {
        "id": "MIemHJMhSzeS",
        "outputId": "f8f14ced-8ed2-4231-e4e6-e5906c60567e"
      },
      "outputs": [
        {
          "name": "stdout",
          "output_type": "stream",
          "text": [
            "Hello, Alice\n"
          ]
        }
      ],
      "source": [
        "name = \"Alice\"\n",
        "print(\"Hello, \" + name) # prints \"Hello, Alice\""
      ]
    },
    {
      "cell_type": "code",
      "execution_count": null,
      "metadata": {
        "id": "I1yzxB5rSzeS",
        "outputId": "b36ae414-03ff-4804-f873-929edfbee9b4"
      },
      "outputs": [
        {
          "name": "stdout",
          "output_type": "stream",
          "text": [
            "Hello, Tom You are 25 years old.\n"
          ]
        }
      ],
      "source": [
        "name = \"Tom\"\n",
        "age = 25\n",
        "print(\"Hello, \" + name, \"You are\", age, \"years old.\")\n",
        "# prints \"Hello, Tom You are 20 years old.\""
      ]
    },
    {
      "cell_type": "code",
      "execution_count": null,
      "metadata": {
        "id": "tYgI9uEESzeS",
        "outputId": "c27686ff-c9e6-4edc-d289-5ab715e0f322"
      },
      "outputs": [
        {
          "name": "stdout",
          "output_type": "stream",
          "text": [
            "20\n"
          ]
        }
      ],
      "source": [
        "a = 10\n",
        "b = 20\n",
        "c = a + b\n",
        "print(b)"
      ]
    },
    {
      "cell_type": "code",
      "execution_count": null,
      "metadata": {
        "id": "eN52L7AUSzeS",
        "outputId": "46c09761-a61c-4875-8ccf-33fdc0a52d45"
      },
      "outputs": [
        {
          "name": "stdout",
          "output_type": "stream",
          "text": [
            "Roll no:12345\n",
            "Welcome to: 12345\n"
          ]
        }
      ],
      "source": [
        "# take input from the user\n",
        "rn = input(\"Roll no:\")\n",
        "print(f\"Welcome to: {rn}\")"
      ]
    },
    {
      "cell_type": "code",
      "execution_count": null,
      "metadata": {
        "id": "nr-W8eWYSzeT"
      },
      "outputs": [],
      "source": []
    },
    {
      "cell_type": "markdown",
      "metadata": {
        "id": "Jlip4GmvSzeT"
      },
      "source": [
        "# Operators"
      ]
    },
    {
      "cell_type": "code",
      "execution_count": null,
      "metadata": {
        "id": "xYync5tjSzeT"
      },
      "outputs": [],
      "source": [
        "a = 10\n",
        "b = 20"
      ]
    },
    {
      "cell_type": "code",
      "execution_count": null,
      "metadata": {
        "id": "rY5M1rhnSzeT",
        "outputId": "9c6e77a8-c4d8-4bec-e2f6-72a3511b5cb7"
      },
      "outputs": [
        {
          "name": "stdout",
          "output_type": "stream",
          "text": [
            "False\n"
          ]
        }
      ],
      "source": [
        "print(a == b)"
      ]
    },
    {
      "cell_type": "code",
      "execution_count": null,
      "metadata": {
        "id": "lEJNSmlqSzeU",
        "outputId": "bf283cd7-b7c6-4700-c243-f59cbb2bfe33"
      },
      "outputs": [
        {
          "name": "stdout",
          "output_type": "stream",
          "text": [
            "False\n"
          ]
        }
      ],
      "source": [
        "a = 10\n",
        "b = 10\n",
        "print(a != b) # Not Equal condition. If it is not equal: output is True"
      ]
    },
    {
      "cell_type": "code",
      "execution_count": null,
      "metadata": {
        "id": "9TNQ6xDySzeU",
        "outputId": "3d6953b1-bd52-420f-db4f-42eadbb63de2"
      },
      "outputs": [
        {
          "name": "stdout",
          "output_type": "stream",
          "text": [
            "True\n"
          ]
        }
      ],
      "source": [
        "a = 31\n",
        "b = 31\n",
        "#print(a > b)\n",
        "#print(a < b)\n",
        "\n",
        "print(a <= b)"
      ]
    },
    {
      "cell_type": "code",
      "execution_count": null,
      "metadata": {
        "id": "j_rH0HYbSzeU",
        "outputId": "fc11cbec-1bcc-451d-c93c-6c5aacc8c8fb"
      },
      "outputs": [
        {
          "name": "stdout",
          "output_type": "stream",
          "text": [
            "True\n"
          ]
        }
      ],
      "source": [
        "# Logical operators\n",
        "\n",
        "# We to apply for job: two conditions are there: (1) More than 60% marks, and (2) You should be from CS, IT\n",
        "#-------------------- AND ---------------------------\n",
        "# Tom he has 75% and he is from Arts = Tom will be out\n",
        "# Alice she has 61% and she is from CS = Alice will go and give the interview\n",
        "\n",
        "# We to apply for job: two conditions are there: (1) More than 60% marks, or (2) You should be from CS, IT\n",
        "#-------------------- OR ---------------------------\n",
        "# Tom he has 75% and he is from Arts\n",
        "# Alice she has 61% and she is from CS\n",
        "# Both Alice and Tom will give the interview\n",
        "\n",
        "#-------------------- NOT ---------------------------\n",
        "# Opposite to what you have\n",
        "\n",
        "\n",
        "a = True\n",
        "b = False\n",
        "\n",
        "#print(a and b)\n",
        "\n",
        "#print(a or b)\n",
        "\n",
        "print(not b)"
      ]
    },
    {
      "cell_type": "code",
      "execution_count": null,
      "metadata": {
        "id": "_n8PM_HNSzeU",
        "outputId": "d51d3789-7dbe-48fb-a14f-cc3bbd7ae568"
      },
      "outputs": [
        {
          "name": "stdout",
          "output_type": "stream",
          "text": [
            "14\n"
          ]
        }
      ],
      "source": [
        "# binary numbers: 0,1   10 = 1010\n",
        "\n",
        "a = 10  # 1010\n",
        "b = 4   # 0100\n",
        "\n",
        "bin(10)\n",
        "bin(4)\n",
        "\n",
        "#result = a & b\n",
        "#print(result)\n",
        "\n",
        "# 10 = 1 0 1 0\n",
        "# 4 =  0 1 0 0\n",
        "#--------------\n",
        "#      0 0 0 0 = 0\n",
        "\n",
        "# & compares each bit of the 1st operand with the 2nd.\n",
        "# if both bits are 1. The corresponding bit is set to 1 Otherwise 0\n",
        "\n",
        "# OR\n",
        "# | compares each bit of the 1st operand with the 2nd.\n",
        "# If either bit is 1, the corresponding result bit is set 1, otherwise the result bit is set to 0\n",
        "# result = a | b\n",
        "# print(result)\n",
        "\n",
        "# 10 = 1 0 1 0\n",
        "# 4 =  0 1 0 0\n",
        "#--------------\n",
        "#      1 1 1 0 = 14\n",
        "\n",
        "# Not ~\n",
        "\n",
        "# XOR\n",
        "# ^ compares each bit of the 1st operand with the 2nd.\n",
        "# If one bit is 1 (but not both), the corresponding result bit is set to 1, otherwise set to 0\n",
        "\n",
        "a = 10  # 1010\n",
        "b = 4   # 0100\n",
        "\n",
        "result = a ^ b\n",
        "print(result)  # 14 = 1110\n",
        "\n",
        "# 10 = 1 0 1 0\n",
        "# 4 =  0 1 0 0\n",
        "#--------------\n",
        "#      1 1 1 0 = 14\n",
        "\n"
      ]
    },
    {
      "cell_type": "code",
      "execution_count": null,
      "metadata": {
        "id": "W09Jg8ekSzeV",
        "outputId": "c1658255-dbaf-4f06-aeb9-a215bb6cd1ee"
      },
      "outputs": [
        {
          "name": "stdout",
          "output_type": "stream",
          "text": [
            "5\n"
          ]
        }
      ],
      "source": [
        "# Right Shift\n",
        "a = 10 # 1010\n",
        "result = a >> 1\n",
        "print(result)\n",
        "\n",
        "# 10 =  1 0 1 0\n",
        "# 5  =  0 1 0 1"
      ]
    },
    {
      "cell_type": "code",
      "execution_count": null,
      "metadata": {
        "id": "PLs2DD6FSzeV",
        "outputId": "f40c7103-903a-4313-d92b-66b4a7c46394"
      },
      "outputs": [
        {
          "name": "stdout",
          "output_type": "stream",
          "text": [
            "20\n"
          ]
        },
        {
          "data": {
            "text/plain": [
              "'0b1010'"
            ]
          },
          "execution_count": 66,
          "metadata": {},
          "output_type": "execute_result"
        }
      ],
      "source": [
        "# left shift\n",
        "a = 5\n",
        "#result = a << 2\n",
        "print(result)\n",
        "\n",
        "# 5  =  0 1 0 1\n",
        "# 20 =  1 0 1 0 0\n",
        "\n",
        "bin(10)"
      ]
    },
    {
      "cell_type": "code",
      "execution_count": null,
      "metadata": {
        "id": "FhF7hHV1SzeV",
        "outputId": "9c67a616-bba7-4092-c004-50f4bfded37e"
      },
      "outputs": [
        {
          "name": "stdout",
          "output_type": "stream",
          "text": [
            "8\n"
          ]
        }
      ],
      "source": [
        "# Assignment operators\n",
        "\n",
        "a = 5\n",
        "# a = a + 3\n",
        "a += 3 # same as this: a = a + 3\n",
        "print(a)\n",
        "\n",
        "\n"
      ]
    },
    {
      "cell_type": "code",
      "execution_count": null,
      "metadata": {
        "id": "CtkhgvaCSzeV",
        "outputId": "f0ffb1bb-b211-4e80-e160-1609c45569a8"
      },
      "outputs": [
        {
          "name": "stdout",
          "output_type": "stream",
          "text": [
            "2\n"
          ]
        }
      ],
      "source": [
        "a = 5\n",
        "# a = a - 3\n",
        "a -= 3 # same as this: a = a - 3\n",
        "print(a)"
      ]
    },
    {
      "cell_type": "code",
      "execution_count": null,
      "metadata": {
        "id": "sSW9qb9pSzeV",
        "outputId": "1447db8f-635b-44c7-974e-b3d46cc2387a"
      },
      "outputs": [
        {
          "name": "stdout",
          "output_type": "stream",
          "text": [
            "15\n"
          ]
        }
      ],
      "source": [
        "a = 5\n",
        "# a = a * 3\n",
        "a *= 3 # same as this: a = a * 3\n",
        "print(a)"
      ]
    },
    {
      "cell_type": "code",
      "execution_count": null,
      "metadata": {
        "id": "p8PCCTuUSzeV",
        "outputId": "79978092-3aaf-40ef-8220-2312f0cf2390"
      },
      "outputs": [
        {
          "name": "stdout",
          "output_type": "stream",
          "text": [
            "5.0\n"
          ]
        }
      ],
      "source": [
        "a = 15\n",
        "# a = a / 3\n",
        "a /= 3 # same as this: a = a / 3\n",
        "print(a)"
      ]
    },
    {
      "cell_type": "code",
      "execution_count": null,
      "metadata": {
        "id": "rY_Iv6xOSzeV"
      },
      "outputs": [],
      "source": []
    },
    {
      "cell_type": "markdown",
      "metadata": {
        "id": "tjfsYKSWSzeV"
      },
      "source": [
        "# If Statement"
      ]
    },
    {
      "cell_type": "code",
      "execution_count": null,
      "metadata": {
        "id": "IKMgkpxoSzeV"
      },
      "outputs": [],
      "source": [
        "age = 17\n",
        "if age >= 18:\n",
        "    print(\"Congs, You can drive\")"
      ]
    },
    {
      "cell_type": "code",
      "execution_count": null,
      "metadata": {
        "id": "ZiKOc75dSzeV",
        "outputId": "c48e6a7e-6a60-4458-d8ac-d05641c93ceb"
      },
      "outputs": [
        {
          "name": "stdout",
          "output_type": "stream",
          "text": [
            "Congs, You can drive\n"
          ]
        }
      ],
      "source": [
        "age = 21\n",
        "if age >= 18:\n",
        "    print(\"Congs, You can drive\")\n",
        "else:\n",
        "    print(\"Sorry due to age limitations you cannot drive\")"
      ]
    },
    {
      "cell_type": "code",
      "execution_count": null,
      "metadata": {
        "id": "TcGdHDqJSzeV",
        "outputId": "f1a53c06-03fa-4626-8522-32e024e32ac4"
      },
      "outputs": [
        {
          "name": "stdout",
          "output_type": "stream",
          "text": [
            "Average performance, your gade is B\n"
          ]
        }
      ],
      "source": [
        "score = 75\n",
        "if score >= 90:\n",
        "    print(\"Excellent performance, your gade is A+\")\n",
        "elif score >= 80:\n",
        "    print(\"Good performance, your gade is A\")\n",
        "elif score >= 70:\n",
        "    print(\"Average performance, your gade is B\")\n",
        "else:\n",
        "    print(\"Performance not good, your grade is C\")"
      ]
    },
    {
      "cell_type": "code",
      "execution_count": null,
      "metadata": {
        "id": "y-a97ZMkSzeW",
        "outputId": "e026db23-5c57-4630-8362-6b5b8433a7c9"
      },
      "outputs": [
        {
          "name": "stdout",
          "output_type": "stream",
          "text": [
            "Largest number is: 30\n"
          ]
        }
      ],
      "source": [
        "# Find largest number from 3 given number\n",
        "num1 = 10\n",
        "num2 = 20\n",
        "num3 = 30\n",
        "\n",
        "if (num1 >= num2) and (num1 >= num3):\n",
        "    largest = num1\n",
        "    print(\"Largest number is:\", largest)\n",
        "elif (num2 >= num1) and (num2 >= num3):\n",
        "    largest = num2\n",
        "    print(\"Largest number is:\", largest)\n",
        "else:\n",
        "    largest = num3\n",
        "    print(\"Largest number is:\", largest)\n",
        "\n",
        "#print(\"Largest number is:\", largest)\n",
        "\n"
      ]
    },
    {
      "cell_type": "code",
      "execution_count": null,
      "metadata": {
        "id": "np99I5FASzeW",
        "outputId": "96094d41-b595-41d1-d4c8-700592e68dea"
      },
      "outputs": [
        {
          "name": "stdout",
          "output_type": "stream",
          "text": [
            "Please enter 1st number:10\n",
            "Please enter 2nd number:20\n",
            "Please enter 3rd number:5\n",
            "Largest number is: 20.0\n"
          ]
        }
      ],
      "source": [
        "# Find largest number from 3 given number\n",
        "num1 = float(input(\"Please enter 1st number:\"))  # input() it return string.\n",
        "num2 = float(input(\"Please enter 2nd number:\"))\n",
        "num3 = float(input(\"Please enter 3rd number:\"))\n",
        "\n",
        "if (num1 >= num2) and (num1 >= num3):\n",
        "    largest = num1\n",
        "    print(\"Largest number is:\", largest)\n",
        "elif (num2 >= num1) and (num2 >= num3):\n",
        "    largest = num2\n",
        "    print(\"Largest number is:\", largest)\n",
        "else:\n",
        "    largest = num3\n",
        "    print(\"Largest number is:\", largest)"
      ]
    },
    {
      "cell_type": "code",
      "execution_count": null,
      "metadata": {
        "id": "j_6ejYmRSzeW",
        "outputId": "c91d57a9-2330-4dd4-a78e-f60ff6bf740c"
      },
      "outputs": [
        {
          "name": "stdout",
          "output_type": "stream",
          "text": [
            "Enter you choice (add/sub/div/mul):add\n",
            "Please enter 1st number:10\n",
            "Please enter 2nd number:20\n",
            "10.0 + 20.0 = 30.0\n"
          ]
        }
      ],
      "source": [
        "# let us make a simple calculator which takes the choice of operation from user\n",
        "# Also user enter two numbers which needed to be computed.\n",
        "\n",
        "choice = input(\"Enter you choice (add/sub/div/mul):\")\n",
        "\n",
        "num1 = float(input(\"Please enter 1st number:\"))\n",
        "num2 = float(input(\"Please enter 2nd number:\"))\n",
        "\n",
        "if choice == \"add\":\n",
        "    print(num1, \"+\", num2, \"=\", num1 + num2)\n",
        "elif choice == \"sub\":\n",
        "    print(num1, \"-\", num2, \"=\", num1 - num2)\n",
        "elif choice == \"div\":\n",
        "    print(num1, \"/\", num2, \"=\", num1 / num2)\n",
        "elif choice == \"mul\":\n",
        "    print(num1, \"*\", num2, \"=\", num1 * num2)\n",
        "else:\n",
        "    print(\"wrong choice\")\n",
        ""
      ]
    },
    {
      "cell_type": "code",
      "execution_count": null,
      "metadata": {
        "id": "1S9PQZrESzeW"
      },
      "outputs": [],
      "source": [
        "# We have 3 designations: Executive, Manager, Senior Manager\n",
        "# take input from the user \"Designation\" and print salary range of that designation\n",
        "# Executive: 30000-40000\n",
        "# Manager: 60000-90000\n",
        "# Senior Manager:  120000-160000\n",
        "\n",
        "# Input: Ask the designation from user: \"Executive\"\n",
        "# Output: The salary range of the Executive is: 30000-40000\n",
        "\n"
      ]
    },
    {
      "cell_type": "code",
      "execution_count": null,
      "metadata": {
        "id": "eLoGUEBISzeW",
        "outputId": "dc893243-2dd4-4f8c-cf80-280700bfda03"
      },
      "outputs": [
        {
          "name": "stdout",
          "output_type": "stream",
          "text": [
            " Enter your designation (Executive/Manager/Senior Manager):manager\n",
            "The salary range for manager between 60000-90000\n"
          ]
        }
      ],
      "source": [
        "designation = input(\" Enter your designation (Executive/Manager/Senior Manager):\")\n",
        "\n",
        "designation = designation.lower() # Convert to lower (small letters)\n",
        "\n",
        "if designation == \"executive\":\n",
        "    print(\"The salary range for executives between 30000-40000\")\n",
        "elif designation == \"manager\":\n",
        "    print(\"The salary range for manager between 60000-90000\")\n",
        "elif designation == \"senior manager\":\n",
        "    print(\"The salary range for senior manager between 120000-160000\")\n",
        "else:\n",
        "    print(\"Please enter correct choice (Executive/Manager/Senior Manager).\")"
      ]
    },
    {
      "cell_type": "markdown",
      "metadata": {
        "id": "NX2_C89DSzeW"
      },
      "source": [
        "# For Loop"
      ]
    },
    {
      "cell_type": "code",
      "execution_count": null,
      "metadata": {
        "id": "xTHuXi23SzeW",
        "outputId": "17642b7d-60e5-414a-e711-e15f7fd0d232"
      },
      "outputs": [
        {
          "name": "stdout",
          "output_type": "stream",
          "text": [
            "0\n",
            "1\n",
            "2\n",
            "3\n",
            "4\n"
          ]
        }
      ],
      "source": [
        "# range(): generating sequence of number 1, 2, 3, 4, 5\n",
        "for i in range(5): # range(stop)\n",
        "    print(i)"
      ]
    },
    {
      "cell_type": "code",
      "execution_count": null,
      "metadata": {
        "id": "WUUZ8EU3SzeW",
        "outputId": "fb8125e7-d9aa-4e2b-f0bd-d6e8f90c7327"
      },
      "outputs": [
        {
          "name": "stdout",
          "output_type": "stream",
          "text": [
            "2\n",
            "3\n",
            "4\n"
          ]
        }
      ],
      "source": [
        "for i in range(2, 5): # range(stop, start)\n",
        "    print(i)"
      ]
    },
    {
      "cell_type": "code",
      "execution_count": null,
      "metadata": {
        "id": "17Ou5hvDSzeW",
        "outputId": "98d347cb-9d8c-43c0-d6ce-4b821ac733cc"
      },
      "outputs": [
        {
          "name": "stdout",
          "output_type": "stream",
          "text": [
            "0\n",
            "2\n",
            "4\n",
            "6\n",
            "8\n",
            "10\n",
            "12\n",
            "14\n",
            "16\n",
            "18\n"
          ]
        }
      ],
      "source": [
        "for i in range(0, 20, 2): # using range(start, stop, step)\n",
        "    print(i)"
      ]
    },
    {
      "cell_type": "code",
      "execution_count": null,
      "metadata": {
        "id": "aMbZIXWTSzeW",
        "outputId": "acc27062-01ef-4dd6-8bb0-61bd4060c845"
      },
      "outputs": [
        {
          "name": "stdout",
          "output_type": "stream",
          "text": [
            "India\n",
            "UK\n",
            "USA\n",
            "Germany\n"
          ]
        }
      ],
      "source": [
        "# Let have for loop on list\n",
        "country = [\"India\", \"UK\", \"USA\", \"Germany\"]  # 4... 1,2,3,4....  0,1,2,3\n",
        "\n",
        "for ct in country:\n",
        "    print(ct)"
      ]
    },
    {
      "cell_type": "code",
      "execution_count": null,
      "metadata": {
        "id": "9vIL6kkYSzeW",
        "outputId": "b3b72f65-926c-4927-d30d-781aad699f9b"
      },
      "outputs": [
        {
          "name": "stdout",
          "output_type": "stream",
          "text": [
            "India\n",
            "UK\n",
            "USA\n",
            "3\n"
          ]
        }
      ],
      "source": [
        "country = [\"India\", \"UK\", \"USA\"] # 0,1,2,3\n",
        "\n",
        "for index in range(len(country)):\n",
        "    print(country[index])\n",
        "\n",
        "# country[0]\n",
        "# country[1]\n",
        "# country[2]\n",
        "# country[3]\n",
        "\n",
        "print(len(country))"
      ]
    },
    {
      "cell_type": "code",
      "execution_count": null,
      "metadata": {
        "id": "hVOnwz92SzeW"
      },
      "outputs": [],
      "source": [
        "# banks\n",
        "# insurance\n",
        "# credit limits"
      ]
    },
    {
      "cell_type": "code",
      "execution_count": null,
      "metadata": {
        "id": "oNNKcSDdSzea",
        "outputId": "39108892-50b1-4fbd-c91e-63c88152fa9b"
      },
      "outputs": [
        {
          "name": "stdout",
          "output_type": "stream",
          "text": [
            "* \n",
            "* * \n",
            "* * * \n",
            "* * * * \n",
            "* * * * * \n"
          ]
        }
      ],
      "source": [
        "# This script will output a pattern of asterisks as follows:\n",
        "# *\n",
        "# * *\n",
        "# * * *\n",
        "# * * * *\n",
        "# * * * * *\n",
        "\n",
        "# The outer loop controls the number of rows\n",
        "for i in range(5):\n",
        "    # The inner loop controls the number of asterisks (*) in each row\n",
        "    for j in range(i+1):\n",
        "        # Print an asterisk, and with 'end' parameter we can avoid new line after each print statement\n",
        "        print('*', end=' ')\n",
        "    # After each row, print a newline to move to the next row\n",
        "    print()\n"
      ]
    },
    {
      "cell_type": "code",
      "execution_count": null,
      "metadata": {
        "id": "HysUyd5WSzea"
      },
      "outputs": [],
      "source": [
        "# print(\"*\",end=\" \")\n",
        "# print asterisks sign\n",
        "# end=\" \" to have the space between *   \\n"
      ]
    },
    {
      "cell_type": "code",
      "execution_count": null,
      "metadata": {
        "id": "XbWsnC8ASzea",
        "outputId": "c96ea999-c23e-424a-a448-e91aed4050e3"
      },
      "outputs": [
        {
          "name": "stdout",
          "output_type": "stream",
          "text": [
            "16 \n",
            "16 8 \n",
            "16 8 4 \n",
            "16 8 4 2 \n"
          ]
        }
      ],
      "source": [
        "# Print follwoing pattern:\n",
        "# Pattern\n",
        "# 16\n",
        "# 16 8\n",
        "# 16 8 4\n",
        "# 16 8 4 2\n",
        "\n",
        "# Initial number is 16, and we want to print four lines.\n",
        "initial_num = 16\n",
        "lines = 4\n",
        "\n",
        "# The outer loop controls the number of lines.\n",
        "for i in range(lines):\n",
        "    num = initial_num\n",
        "    # The inner loop controls the numbers on each line.\n",
        "    # For each line, we print the numbers by successively halving.\n",
        "    for j in range(i + 1):\n",
        "        # The print function prints the current number followed by a space.\n",
        "        print(num, end=' ')\n",
        "        # Update the number by halving it\n",
        "        num //= 2\n",
        "    # After all the numbers on a line have been printed, we print a newline character\n",
        "    print()\n"
      ]
    },
    {
      "cell_type": "markdown",
      "metadata": {
        "id": "O_dDJmiuSzeb"
      },
      "source": [
        "# Nested For Loop"
      ]
    },
    {
      "cell_type": "code",
      "execution_count": null,
      "metadata": {
        "id": "heyIq2xgSzeb",
        "outputId": "32759d3d-4522-4715-9b92-5a2a8f1250c0"
      },
      "outputs": [
        {
          "name": "stdout",
          "output_type": "stream",
          "text": [
            "1\t2\t3\t4\t5\t\n",
            "2\t4\t6\t8\t10\t\n",
            "3\t6\t9\t12\t15\t\n",
            "4\t8\t12\t16\t20\t\n",
            "5\t10\t15\t20\t25\t\n"
          ]
        }
      ],
      "source": [
        "#Print the following pattern:\n",
        "# 1    2    3    4     5\n",
        "# 2    4    6    8     10\n",
        "# 3    6    9    12    15\n",
        "# 4    8    12   16    20\n",
        "# 5   10    15   20    25\n",
        "\n",
        "# The outer loop iterates over the first 5 numbers\n",
        "for i in range(1, 6):\n",
        "    # For each number 'i', the inner loop iterates over the first 5 numbers as well\n",
        "    for j in range(1, 6):\n",
        "        # Print the product of 'i' and 'j', followed by a tab space\n",
        "        print(i * j, end='\\t')\n",
        "    # After each row of the table, print a newline to move to the next row\n",
        "    print()\n"
      ]
    },
    {
      "cell_type": "markdown",
      "metadata": {
        "id": "tcYZDpcOSzeb"
      },
      "source": [
        "# While"
      ]
    },
    {
      "cell_type": "code",
      "execution_count": null,
      "metadata": {
        "id": "3CTU3gq7Szeb",
        "outputId": "32287c4c-6f67-4492-82e3-8ae3813c4d77"
      },
      "outputs": [
        {
          "name": "stdout",
          "output_type": "stream",
          "text": [
            "1\n",
            "2\n",
            "3\n",
            "4\n",
            "5\n"
          ]
        }
      ],
      "source": [
        "count = 1\n",
        "\n",
        "while count <= 5:   # while will run untill value of count is 5. If value is 6, it will not run\n",
        "    print(count)    # printing value of count\n",
        "    count += 1      # count = count + 1\n",
        "\n",
        "#Check count <= 5..... count = 1 that mean condition true, condition holds\n",
        "\n",
        "# 1st interation\n",
        "# Step 1: print the value of count 1\n",
        "# Step 2: count will be incremented by 1 count = count + 1\n",
        "\n",
        "# Now updated Count = 2\n",
        "# while count <= 5: still condition is true\n",
        "\n",
        "# 2nd interation\n",
        "# Step 1: print the value of count 2\n",
        "# Step 2: count will be incremented by 1 count = count + 1 = 2 + 1 = 3\n",
        "\n",
        "# Now updated Count = 3\n",
        "# while count <= 5: still condition is true\n",
        "\n",
        "# 3rd interation\n",
        "# Step 1: print the value of count 3\n",
        "# Step 2: count will be incremented by 1 count = count + 1 = 3 + 1 = 4\n",
        "\n",
        "# Now updated Count = 4\n",
        "# while count <= 5: still condition is true\n",
        "\n",
        "# 4th interation\n",
        "# Step 1: print the value of count 4\n",
        "# Step 2: count will be incremented by 1 count = count + 1 = 4 + 1 = 5\n",
        "\n",
        "# Now updated Count = 5\n",
        "# while count <= 5: still condition is true\n",
        "\n",
        "# 5th interation\n",
        "# Step 1: print the value of count 5\n",
        "# Step 2: count will be incremented by 1 count = count + 1 = 5 + 1 = 6\n",
        "\n",
        "# Now updated Count = 6\n",
        "# while count <= 5: Now condition false\n"
      ]
    },
    {
      "cell_type": "code",
      "execution_count": null,
      "metadata": {
        "id": "rVPaRaRWSzeb",
        "outputId": "1f297587-b833-4c57-a6d7-b20e954f63bc"
      },
      "outputs": [
        {
          "name": "stdout",
          "output_type": "stream",
          "text": [
            "Enter a word (or quit to exit):I am happy\n",
            "You entered: I am happy\n",
            "Enter a word (or quit to exit):Today is Sunday\n",
            "You entered: Today is Sunday\n",
            "Enter a word (or quit to exit):Tomorrow I need to work\n",
            "You entered: Tomorrow I need to work\n",
            "Enter a word (or quit to exit):Monday is a busy working day\n",
            "You entered: Monday is a busy working day\n",
            "Enter a word (or quit to exit):quit\n",
            "You entered: quit\n"
          ]
        }
      ],
      "source": [
        "text = \"\"\n",
        "\n",
        "while text != \"quit\":\n",
        "    text = input(\"Enter a word (or quit to exit):\")\n",
        "    print(\"You entered:\", text)"
      ]
    },
    {
      "cell_type": "code",
      "execution_count": null,
      "metadata": {
        "id": "5g1wcDqSSzeb",
        "outputId": "60bce05b-b4a6-4a71-8a02-9af110b10f7e"
      },
      "outputs": [
        {
          "name": "stdout",
          "output_type": "stream",
          "text": [
            "Old Salary is:\n",
            "[30000, 40000, 45000, 40000]\n",
            "Updated Salary is:\n",
            "[30000, 40000, 45000, 42000.0]\n"
          ]
        }
      ],
      "source": [
        "# For we used generally we know when to stop\n",
        "# While is generally use when stop condition will be satisfied, we do not know\n",
        "# We have a list nm = [Alice, Tom, Marry, James]\n",
        "# Salary = [30000, 40000, 45000, 40000]\n",
        "# give 5 % bonus to James only as he is performing great. Boss is happy\n",
        "\n",
        "names = [\"Alice\", \"Tom\", \"Marry\", \"James\"]\n",
        "salary = [30000, 40000, 45000, 40000]\n",
        "\n",
        "print(\"Old Salary is:\")\n",
        "print(salary)\n",
        "# First sub-problem is we will iterate both lists\n",
        "# We need to update salary of James only\n",
        "\n",
        "for i in range(len(names)):\n",
        "    if names[i] == \"James\":\n",
        "        increment = salary[i]*0.05\n",
        "        salary[i] += increment\n",
        "\n",
        "print(\"Updated Salary is:\")\n",
        "print(salary)"
      ]
    },
    {
      "cell_type": "code",
      "execution_count": null,
      "metadata": {
        "id": "I5-1X9YwSzec",
        "outputId": "ae419425-39ea-4373-e18b-accb946c6d50"
      },
      "outputs": [
        {
          "name": "stdout",
          "output_type": "stream",
          "text": [
            "hi\n",
            "hi\n",
            "hi\n",
            "hi\n",
            "hi\n",
            "hi\n",
            "hi\n",
            "hi\n",
            "hi\n",
            "hi\n",
            "hi\n",
            "hi\n",
            "hi\n",
            "hi\n",
            "hi\n",
            "hi\n",
            "hi\n",
            "hi\n",
            "hi\n",
            "hi\n",
            "hi\n",
            "hi\n",
            "hi\n",
            "hi\n",
            "hi\n",
            "hi\n",
            "hi\n",
            "hi\n",
            "hi\n",
            "hi\n",
            "hi\n",
            "hi\n",
            "hi\n"
          ]
        }
      ],
      "source": [
        "# Have a while loop run for a specific amount of time, you can use the time module in Python.\n",
        "# Here's an example of a while loop that prints \"hi\" for 10 seconds:\n",
        "\n",
        "import time\n",
        "\n",
        "# Get the current time\n",
        "start_time = time.time()\n",
        "\n",
        "# This is the time, in seconds, for which we want the loop to run\n",
        "duration = 10\n",
        "\n",
        "# This while loop will run until the elapsed time is greater than the specified duration\n",
        "while time.time() - start_time < duration:\n",
        "    print(\"hi\")\n",
        "    # It's a good idea to add a small delay, so we don't print \"hi\" too rapidly\n",
        "    time.sleep(0.3)\n"
      ]
    },
    {
      "cell_type": "markdown",
      "metadata": {
        "id": "fw-_stRTSzec"
      },
      "source": [
        "# Nested For and IF"
      ]
    },
    {
      "cell_type": "code",
      "execution_count": null,
      "metadata": {
        "id": "puOdBp3PSzec",
        "outputId": "7af0fd40-ee8c-4a89-8cc5-1e04ab457ff8"
      },
      "outputs": [
        {
          "name": "stdout",
          "output_type": "stream",
          "text": [
            "3 is divisible by 3\n",
            "6 is divisible by 3\n",
            "9 is divisible by 3\n"
          ]
        }
      ],
      "source": [
        "# Given a list of numbers, we want to check if a number is divisible by 3 and print it if it is.\n",
        "\n",
        "# Here's our list\n",
        "numbers = [1, 2, 3, 4, 5, 6, 7, 8, 9]\n",
        "\n",
        "# The loop goes through each number in the list\n",
        "for num in numbers:\n",
        "    # The if statement checks if the number is divisible by 3\n",
        "    if num % 3 == 0:\n",
        "        # If the number is divisible by 3, print it\n",
        "        print(f\"{num} is divisible by 3\")\n"
      ]
    },
    {
      "cell_type": "code",
      "execution_count": null,
      "metadata": {
        "id": "Qg5jq80MSzec",
        "outputId": "4ddda2da-5ba4-4008-9f91-b0eca516f554"
      },
      "outputs": [
        {
          "name": "stdout",
          "output_type": "stream",
          "text": [
            "['John', 'SARAH', 'Alice', 'Bob', 'CHARLIE']\n"
          ]
        }
      ],
      "source": [
        "# Here's our list\n",
        "names = ['john', 'SARAH', 'alice', 'bob', 'CHARLIE']\n",
        "\n",
        "# The loop goes through each name in the list\n",
        "for i in range(len(names)):\n",
        "    # The if statement checks if the name does not start with a capital letter\n",
        "    if not names[i][0].isupper():\n",
        "        # If the name doesn't start with a capital letter, capitalize it\n",
        "        names[i] = names[i].capitalize()\n",
        "\n",
        "# Print the updated names list\n",
        "print(names)\n"
      ]
    },
    {
      "cell_type": "code",
      "execution_count": null,
      "metadata": {
        "id": "vZ2KJ8PmSzec"
      },
      "outputs": [],
      "source": []
    }
  ],
  "metadata": {
    "kernelspec": {
      "display_name": "Python 3",
      "language": "python",
      "name": "python3"
    },
    "language_info": {
      "codemirror_mode": {
        "name": "ipython",
        "version": 3
      },
      "file_extension": ".py",
      "mimetype": "text/x-python",
      "name": "python",
      "nbconvert_exporter": "python",
      "pygments_lexer": "ipython3",
      "version": "3.8.5"
    },
    "colab": {
      "provenance": []
    }
  },
  "nbformat": 4,
  "nbformat_minor": 0
}