{
 "cells": [
  {
   "cell_type": "markdown",
   "metadata": {},
   "source": [
    "* **Positional Arguments:**\n",
    "Positional arguments are the most common type of arguments in Python functions. They are defined based on their position in the function's parameter list. When you call a function, you pass values to the function in the same order as the parameters are defined. The values you pass are then assigned to the corresponding parameters based on their position."
   ]
  },
  {
   "cell_type": "code",
   "execution_count": 9,
   "metadata": {},
   "outputs": [
    {
     "name": "stdout",
     "output_type": "stream",
     "text": [
      "8\n"
     ]
    }
   ],
   "source": [
    "def add_numbers(a, b):\n",
    "    return a + b\n",
    "\n",
    "result = add_numbers(5, 3)  # Here, 5 and 3 are positional arguments\n",
    "print(result)  # Output: 8\n"
   ]
  },
  {
   "cell_type": "markdown",
   "metadata": {},
   "source": [
    "* **Keyword Arguments:**\n",
    "Keyword arguments, on the other hand, are arguments passed to a function using the parameter names as keywords. Instead of relying on their position, you explicitly specify which parameter each value corresponds to. This can be useful when the function has a large number of parameters, and you want to avoid confusion about the order."
   ]
  },
  {
   "cell_type": "code",
   "execution_count": 10,
   "metadata": {},
   "outputs": [
    {
     "name": "stdout",
     "output_type": "stream",
     "text": [
      "Hello, Alice! How are you?\n"
     ]
    }
   ],
   "source": [
    "def greet(name, message):\n",
    "    return f\"Hello, {name}! {message}\"\n",
    "\n",
    "greeting = greet(name=\"Alice\", message=\"How are you?\")  # Here, name and message are keyword arguments\n",
    "print(greeting)  # Output: Hello, Alice! How are you?\n"
   ]
  },
  {
   "cell_type": "code",
   "execution_count": 11,
   "metadata": {},
   "outputs": [
    {
     "name": "stdout",
     "output_type": "stream",
     "text": [
      "Hello, Alice! Good morning\n",
      "Hello, Bob! How are you?\n"
     ]
    }
   ],
   "source": [
    "def greet(name, message=\"Good morning\"):\n",
    "    return f\"Hello, {name}! {message}\"\n",
    "\n",
    "greeting1 = greet(name=\"Alice\")  # Providing only one argument, message will take its default value\n",
    "greeting2 = greet(name=\"Bob\", message=\"How are you?\")\n",
    "print(greeting1)  # Output: Hello, Alice! Good morning\n",
    "print(greeting2)  # Output: Hello, Bob! How are you?\n"
   ]
  },
  {
   "cell_type": "markdown",
   "metadata": {},
   "source": [
    "#### Example"
   ]
  },
  {
   "cell_type": "code",
   "execution_count": 3,
   "metadata": {},
   "outputs": [
    {
     "name": "stdout",
     "output_type": "stream",
     "text": [
      "positional arguments: ('kash', 19, 20, 1, 2)\n",
      "Keyword Arguments: {'age': 25, 'degree': 'MBA'}\n"
     ]
    }
   ],
   "source": [
    "# Positional arguments and keyword arguments\n",
    "def print_args(*args, **kwargs):\n",
    "    print(f\"positional arguments: {args}\")\n",
    "    print(f\"Keyword Arguments: {kwargs}\")\n",
    "\n",
    "\n",
    "ls = ['kash', 19, 20]\n",
    "dict = {'age':25, 'degree': \"MBA\"}\n",
    "\n",
    "# print_args(*ls, **dict, 1, 2) # ERROR #positional arguments can't be used after keywords arguments\n",
    "# print_args(**dict, *ls) # ERROR\n",
    "# print_args(**dict,2,3) # ERROR\n",
    "\n",
    "print_args(*ls, 1, 2, **dict) "
   ]
  },
  {
   "cell_type": "markdown",
   "metadata": {},
   "source": [
    "#### Exercise Question:\n",
    "Write a program to create a class named contract having 2 methods\n",
    "\n",
    "* __init__(): This method should initialize instance members with the parameter passed. Allow userts to pass any number of variables as he wants.\n",
    "* show(): Display the names of all the instance variables as well as there values\n",
    "\n",
    "\n",
    "Finally in the main Script create 2 Contract objects, initialize them and display data"
   ]
  },
  {
   "cell_type": "markdown",
   "metadata": {},
   "source": [
    "In Python, __dict__ is a special attribute that exists for most objects, including instances of classes. \n",
    "It is a dictionary that stores the attributes (variables) of an object and their corresponding values. \n",
    "When you create an instance of a class, Python allocates memory to store the instance variables, \n",
    "and it uses the __dict__ attribute to manage and access these variables."
   ]
  },
  {
   "cell_type": "code",
   "execution_count": 6,
   "metadata": {},
   "outputs": [],
   "source": [
    "class Contract:\n",
    "    def __init__(self, **kwargs):\n",
    "        self.__dict__.update(kwargs)\n",
    "\n",
    "    def show(self):\n",
    "        # Directly accessing the key-value elements from __dict__\n",
    "        print(\"Name:\", self.name)\n",
    "        print(\"Last Name:\", self.last_name)\n",
    "\n",
    "        # Traversing __dict__ to get key-value elemetns\n",
    "        for key, val in self.__dict__.items():\n",
    "            print(f\"{key} = {val}\")\n"
   ]
  },
  {
   "cell_type": "code",
   "execution_count": 7,
   "metadata": {},
   "outputs": [
    {
     "name": "stdout",
     "output_type": "stream",
     "text": [
      "Name: kashyap\n",
      "Last Name: kolhe\n",
      "name = kashyap\n",
      "last_name = kolhe\n",
      "age = 25\n",
      "Qualification = BE\n"
     ]
    }
   ],
   "source": [
    "d = Contract(name='kashyap',last_name = 'kolhe', age = 25, Qualification = \"BE\")\n",
    "d.show()"
   ]
  },
  {
   "cell_type": "code",
   "execution_count": 8,
   "metadata": {},
   "outputs": [
    {
     "data": {
      "text/plain": [
       "['Qualification',\n",
       " '__class__',\n",
       " '__delattr__',\n",
       " '__dict__',\n",
       " '__dir__',\n",
       " '__doc__',\n",
       " '__eq__',\n",
       " '__format__',\n",
       " '__ge__',\n",
       " '__getattribute__',\n",
       " '__getstate__',\n",
       " '__gt__',\n",
       " '__hash__',\n",
       " '__init__',\n",
       " '__init_subclass__',\n",
       " '__le__',\n",
       " '__lt__',\n",
       " '__module__',\n",
       " '__ne__',\n",
       " '__new__',\n",
       " '__reduce__',\n",
       " '__reduce_ex__',\n",
       " '__repr__',\n",
       " '__setattr__',\n",
       " '__sizeof__',\n",
       " '__str__',\n",
       " '__subclasshook__',\n",
       " '__weakref__',\n",
       " 'age',\n",
       " 'last_name',\n",
       " 'name',\n",
       " 'show']"
      ]
     },
     "execution_count": 8,
     "metadata": {},
     "output_type": "execute_result"
    }
   ],
   "source": [
    "dir(d)"
   ]
  },
  {
   "cell_type": "code",
   "execution_count": null,
   "metadata": {},
   "outputs": [],
   "source": []
  }
 ],
 "metadata": {
  "kernelspec": {
   "display_name": "base",
   "language": "python",
   "name": "python3"
  },
  "language_info": {
   "codemirror_mode": {
    "name": "ipython",
    "version": 3
   },
   "file_extension": ".py",
   "mimetype": "text/x-python",
   "name": "python",
   "nbconvert_exporter": "python",
   "pygments_lexer": "ipython3",
   "version": "3.11.3"
  },
  "orig_nbformat": 4
 },
 "nbformat": 4,
 "nbformat_minor": 2
}
